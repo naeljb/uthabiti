{
 "cells": [
  {
   "cell_type": "code",
   "execution_count": 1,
   "id": "edd696b2",
   "metadata": {},
   "outputs": [],
   "source": [
    "import pandas as pd\n",
    "import numpy as np\n",
    "import seaborn as sns\n",
    "import matplotlib.pyplot as plt"
   ]
  },
  {
   "cell_type": "code",
   "execution_count": 2,
   "id": "f7be34b9",
   "metadata": {},
   "outputs": [],
   "source": [
    "# providing the dataset path\n",
    "data1 = \"C:/Users/Nael/Desktop/Uganda/Uganda Uthabiti_baseline/ML/baseline_dataset.csv\"\n",
    "# reading the csv file and named as df\n",
    "df = pd.read_csv(data1, encoding='latin-1')    "
   ]
  },
  {
   "cell_type": "code",
   "execution_count": 3,
   "id": "e1c690f3",
   "metadata": {},
   "outputs": [],
   "source": [
    "# checking  and # getting all the column names of the dataframe\n",
    "columns_names = list(df.columns)\n",
    "# print(columns_names)    # for printing the column name, remove # from this code line      "
   ]
  },
  {
   "cell_type": "markdown",
   "id": "fb315919",
   "metadata": {},
   "source": [
    "# I. Variables/columns creation \n"
   ]
  },
  {
   "cell_type": "markdown",
   "id": "fac40e4f",
   "metadata": {},
   "source": [
    "##  1) Household size "
   ]
  },
  {
   "cell_type": "code",
   "execution_count": 4,
   "id": "8f797b3d",
   "metadata": {},
   "outputs": [],
   "source": [
    "df[\"hh_size\"] = df['m total'] + df['f total']"
   ]
  },
  {
   "cell_type": "markdown",
   "id": "d2c7fdfb",
   "metadata": {},
   "source": [
    " ## 2)  Gendered household type"
   ]
  },
  {
   "cell_type": "code",
   "execution_count": 5,
   "id": "62a9ca50",
   "metadata": {},
   "outputs": [],
   "source": [
    "df['num_male_adult'] = df['m 18-29 years'] + df['m 30-59 years'] + df['m 60 years and above'] \n",
    "df['num_female_adult'] = df['f 18-29 years'] + df['f 30-59 years'] + df['f 60 years and above']\n",
    "df['num_children'] = df['m 0-17 years'] + df['f 0-17 years']"
   ]
  },
  {
   "cell_type": "code",
   "execution_count": 6,
   "id": "07dc729f",
   "metadata": {},
   "outputs": [],
   "source": [
    "# creation of a \"boolean\"  columne for each gendered household type \n",
    "df['FM_gender'] = df.apply(lambda row: 1 if (row['num_male_adult'] >= 1 and row['num_female_adult'] >= 1) else 0, axis=1)\n",
    "df['FNM_gender'] =df.apply(lambda row: 1 if (row['num_male_adult'] == 0 and row['num_female_adult'] >= 1) else 0, axis=1)\n",
    "df['MNF_gender'] = df.apply(lambda row: 1 if (row['num_male_adult'] >= 1 and row['num_female_adult'] == 0) else 0, axis=1)\n",
    "df['CNA_gender'] = df.apply(lambda row: 1 if (row['num_male_adult'] == 0 and row['num_female_adult'] == 0) else 0, axis=1)"
   ]
  },
  {
   "cell_type": "code",
   "execution_count": 7,
   "id": "c09f5ec8",
   "metadata": {},
   "outputs": [
    {
     "name": "stdout",
     "output_type": "stream",
     "text": [
      "548\n"
     ]
    }
   ],
   "source": [
    "# Count of number of Female & Male adult households\n",
    "count_FM = df['FM_gender'].value_counts()[1]\n",
    "print(count_FM)"
   ]
  },
  {
   "cell_type": "code",
   "execution_count": 8,
   "id": "6f84554b",
   "metadata": {},
   "outputs": [
    {
     "name": "stdout",
     "output_type": "stream",
     "text": [
      "167\n"
     ]
    }
   ],
   "source": [
    "# Count of number of Female No Male adult households\n",
    "count_FNM = df['FNM_gender'].value_counts()[1]\n",
    "print(count_FNM)"
   ]
  },
  {
   "cell_type": "code",
   "execution_count": 9,
   "id": "81a834d4",
   "metadata": {},
   "outputs": [
    {
     "name": "stdout",
     "output_type": "stream",
     "text": [
      "60\n"
     ]
    }
   ],
   "source": [
    "# Count of number of Male No Female adult households\n",
    "count_MNF = df['MNF_gender'].value_counts()[1]\n",
    "print(count_MNF)"
   ]
  },
  {
   "cell_type": "code",
   "execution_count": 10,
   "id": "3a15f19b",
   "metadata": {},
   "outputs": [
    {
     "name": "stdout",
     "output_type": "stream",
     "text": [
      "49\n"
     ]
    }
   ],
   "source": [
    "#Count of number of Children No adult households\n",
    "count_CNA = df['CNA_gender'].value_counts()[1]\n",
    "print(count_CNA)"
   ]
  },
  {
   "cell_type": "code",
   "execution_count": 11,
   "id": "71d3882f",
   "metadata": {},
   "outputs": [],
   "source": [
    "# Creation of single column for gendered household type \n",
    "df['gender_HH_type'] = np.where((df['FM_gender'] == 1) & (df['FNM_gender'] == 0) & (df['MNF_gender'] == 0) & (df['CNA_gender'] == 0), 'F&M',\n",
    "                   np.where((df['FM_gender'] == 0) & (df['FNM_gender'] == 1) & (df['MNF_gender'] ==0) & (df['CNA_gender'] == 0), 'FNM',\n",
    "                   np.where((df['FM_gender'] == 0) & (df['FNM_gender'] == 0) & (df['MNF_gender'] == 1) & (df['CNA_gender'] == 0), 'MNF', 'CNA')))"
   ]
  },
  {
   "cell_type": "code",
   "execution_count": 12,
   "id": "6238ba80",
   "metadata": {},
   "outputs": [
    {
     "data": {
      "text/plain": [
       "F&M    548\n",
       "FNM    167\n",
       "MNF     60\n",
       "CNA     49\n",
       "Name: gender_HH_type, dtype: int64"
      ]
     },
     "execution_count": 12,
     "metadata": {},
     "output_type": "execute_result"
    }
   ],
   "source": [
    "# Count of gendered household type\n",
    "df['gender_HH_type'].value_counts()"
   ]
  },
  {
   "cell_type": "markdown",
   "id": "2140023f",
   "metadata": {},
   "source": [
    "## 3) Food Consumption Score"
   ]
  },
  {
   "cell_type": "code",
   "execution_count": 13,
   "id": "70124143",
   "metadata": {},
   "outputs": [
    {
     "data": {
      "text/plain": [
       "FC01    object\n",
       "FC02    object\n",
       "FC03    object\n",
       "FC04    object\n",
       "FC05    object\n",
       "FC06    object\n",
       "FC07    object\n",
       "FC08    object\n",
       "FC09    object\n",
       "dtype: object"
      ]
     },
     "execution_count": 13,
     "metadata": {},
     "output_type": "execute_result"
    }
   ],
   "source": [
    "# checking the data type for Food group consumption columns \n",
    "df[['FC01','FC02','FC03','FC04','FC05','FC06','FC07','FC08','FC09']].dtypes"
   ]
  },
  {
   "cell_type": "code",
   "execution_count": 14,
   "id": "20c78d1e",
   "metadata": {},
   "outputs": [
    {
     "name": "stdout",
     "output_type": "stream",
     "text": [
      "FC01    0\n",
      "FC02    0\n",
      "FC03    0\n",
      "FC04    0\n",
      "FC05    0\n",
      "FC06    0\n",
      "FC07    0\n",
      "FC08    0\n",
      "FC09    0\n",
      "dtype: int64\n"
     ]
    }
   ],
   "source": [
    "# checking the number of missing value for food group consumption columns \n",
    "FC_missing = df[['FC01','FC02','FC03','FC04','FC05','FC06','FC07','FC08','FC09']].isna().sum()\n",
    "print (FC_missing)"
   ]
  },
  {
   "cell_type": "code",
   "execution_count": 15,
   "id": "71288c58",
   "metadata": {},
   "outputs": [
    {
     "name": "stdout",
     "output_type": "stream",
     "text": [
      "['2 days' '7 days' '3 days' '4 days' '1 day' '6 days' '5 days' '0 day']\n",
      "['3 days' '6 days' '0 day' '7 days' '5 days' '4 days' '2 days' '1 day']\n"
     ]
    }
   ],
   "source": [
    "# viewing  the different values in FCO1 and so on\n",
    "print (df['FC01'].unique())\n",
    "print (df['FC02'].unique())"
   ]
  },
  {
   "cell_type": "code",
   "execution_count": 16,
   "id": "c686279f",
   "metadata": {},
   "outputs": [],
   "source": [
    "# creating/renaming food group consumption column and keeping the first value characters (ex: 2 days to 2)\n",
    "df['FC01_staple'] = df['FC01'].str.slice(stop=1)\n",
    "df['FC02_Pulse']  = df['FC02'].str.slice(stop=1)\n",
    "df['FC03_Vegetable'] = df['FC03'].str.slice(stop=1)\n",
    "df['FC04_Fruits'] = df['FC04'].str.slice(stop=1)\n",
    "df['FC05_Meat_Fish'] = df['FC05'].str.slice(stop=1)\n",
    "df['FC06_Milk'] = df['FC06'].str.slice(stop=1)\n",
    "df['FC07_Sugar'] = df['FC07'].str.slice(stop=1)\n",
    "df['FC08_Oil'] = df['FC08'].str.slice(stop=1)\n",
    "df['FC09_Condiment'] = df['FC09'].str.slice(stop=1)"
   ]
  },
  {
   "cell_type": "code",
   "execution_count": 17,
   "id": "77f4fc3a",
   "metadata": {},
   "outputs": [],
   "source": [
    "# Transforming columns as integer data type\n",
    "df['FC01_staple'] = pd.to_numeric(df['FC01_staple'], errors='coerce').astype(int)\n",
    "df['FC02_Pulse'] = pd.to_numeric(df['FC02_Pulse'], errors='coerce').astype(int)\n",
    "df['FC03_Vegetable'] = pd.to_numeric(df['FC03_Vegetable'], errors='coerce').astype(int)\n",
    "df['FC04_Fruits'] = pd.to_numeric(df['FC04_Fruits'], errors='coerce').astype(int)\n",
    "df['FC05_Meat_Fish'] = pd.to_numeric(df['FC05_Meat_Fish'], errors='coerce').astype(int)\n",
    "df['FC06_Milk'] = pd.to_numeric(df['FC06_Milk'], errors='coerce').astype(int)\n",
    "df['FC07_Sugar'] = pd.to_numeric(df['FC07_Sugar'], errors='coerce').astype(int)\n",
    "df['FC08_Oil'] = pd.to_numeric(df['FC08_Oil'], errors='coerce').astype(int)\n",
    "df['FC09_Condiment'] = pd.to_numeric(df['FC09_Condiment'], errors='coerce').astype(int)"
   ]
  },
  {
   "cell_type": "code",
   "execution_count": 18,
   "id": "602e32f8",
   "metadata": {},
   "outputs": [],
   "source": [
    "# Creating food group weighted colums\n",
    "df['FC01_staple_W'] = df['FC01_staple']*2\n",
    "df['FC02_Pulse_W']  = df['FC02_Pulse']*3\n",
    "df['FC03_Vegetable_1'] = df['FC03_Vegetable']*1\n",
    "df['FC04_Fruits_W'] = df['FC04_Fruits']*1\n",
    "df['FC05_Meat_Fish_W'] = df['FC05_Meat_Fish']*4\n",
    "df['FC06_Milk_W'] = df['FC06_Milk']*4\n",
    "df['FC07_Sugar_W'] = df['FC07_Sugar']*0.5\n",
    "df['FC08_Oil_W'] = df['FC08_Oil']*0.5\n",
    "df['FC09_Condiment_W'] = df['FC09_Condiment']*0"
   ]
  },
  {
   "cell_type": "code",
   "execution_count": 19,
   "id": "90737efa",
   "metadata": {},
   "outputs": [],
   "source": [
    "# computing the food consumption score\n",
    "df['FCS'] = df['FC01_staple_W']+df['FC02_Pulse_W']+df['FC03_Vegetable_1']+df['FC04_Fruits_W']+df['FC05_Meat_Fish_W']+df['FC06_Milk_W']+df['FC07_Sugar_W']+df['FC08_Oil_W']+df['FC09_Condiment_W']"
   ]
  },
  {
   "cell_type": "code",
   "execution_count": null,
   "id": "7191bfe6",
   "metadata": {},
   "outputs": [],
   "source": []
  },
  {
   "cell_type": "markdown",
   "id": "080c7821",
   "metadata": {},
   "source": [
    "## 4) Reduced Coping Strategy index"
   ]
  },
  {
   "cell_type": "code",
   "execution_count": 20,
   "id": "4d3eac0d",
   "metadata": {},
   "outputs": [
    {
     "data": {
      "text/plain": [
       "CS01    object\n",
       "CS02    object\n",
       "CS03    object\n",
       "CS04    object\n",
       "CS05    object\n",
       "dtype: object"
      ]
     },
     "execution_count": 20,
     "metadata": {},
     "output_type": "execute_result"
    }
   ],
   "source": [
    "# checking the data type for coping strategy columns \n",
    "df[['CS01','CS02','CS03','CS04','CS05']].dtypes"
   ]
  },
  {
   "cell_type": "code",
   "execution_count": 21,
   "id": "6223b9d2",
   "metadata": {},
   "outputs": [
    {
     "name": "stdout",
     "output_type": "stream",
     "text": [
      "CS01    0\n",
      "CS02    0\n",
      "CS03    0\n",
      "CS04    0\n",
      "CS05    0\n",
      "dtype: int64\n"
     ]
    }
   ],
   "source": [
    "# checking the number of missing value for food group consumption columns \n",
    "CS_missing = df[['CS01','CS02','CS03','CS04','CS05']].isna().sum()\n",
    "print (CS_missing)"
   ]
  },
  {
   "cell_type": "code",
   "execution_count": 22,
   "id": "9be43b92",
   "metadata": {},
   "outputs": [
    {
     "name": "stdout",
     "output_type": "stream",
     "text": [
      "['4 days' '0 day' '1 day' '2 days' '3 days' '5 days' '7 days' '6 days']\n",
      "['2 days' '1 day' '0 day' '3 days' '4 days' '5 days' '6 days' '7 days']\n"
     ]
    }
   ],
   "source": [
    "# viewing  the different values in CSO1 and so on\n",
    "print (df['CS01'].unique())\n",
    "print (df['CS02'].unique())"
   ]
  },
  {
   "cell_type": "code",
   "execution_count": 23,
   "id": "494785c0",
   "metadata": {},
   "outputs": [],
   "source": [
    "# creating/renaming the coping strategy column and keeping the first value characters (ex: 2 days to 2)\n",
    "df[\"c1\"] = df [\"CS01\"].str[0]\n",
    "df[\"c2\"] = df [\"CS02\"].str[0]\n",
    "df[\"c3\"] = df [\"CS03\"].str[0]\n",
    "df[\"c4\"] = df [\"CS04\"].str[0]\n",
    "df[\"c5\"] = df [\"CS05\"].str[0]"
   ]
  },
  {
   "cell_type": "code",
   "execution_count": 24,
   "id": "33172c2d",
   "metadata": {},
   "outputs": [],
   "source": [
    "# Transforming columns as integer data type\n",
    "df[\"c1\"] = df [\"c1\"].astype(int)\n",
    "df[\"c2\"] = df [\"c2\"].astype(int)\n",
    "df[\"c3\"] = df [\"c3\"].astype(int)\n",
    "df[\"c4\"] = df [\"c4\"].astype(int)\n",
    "df[\"c5\"] = df [\"c5\"].astype(int)"
   ]
  },
  {
   "cell_type": "code",
   "execution_count": 25,
   "id": "c959c6ef",
   "metadata": {},
   "outputs": [],
   "source": [
    "# Creating coping weighted colums\n",
    "df[\"c1_w\"] = df [\"c1\"]* 1\n",
    "df[\"c2_w\"] = df [\"c2\"]*2\n",
    "df[\"c3_w\"] = df [\"c3\"]*1\n",
    "df[\"c4_w\"] = df [\"c4\"]*3\n",
    "df[\"c5_w\"] = df [\"c5\"]*1"
   ]
  },
  {
   "cell_type": "code",
   "execution_count": 26,
   "id": "07d7b70e",
   "metadata": {},
   "outputs": [],
   "source": [
    "# Computing reduced coping strategy index\n",
    "df[\"rcsi\"] = df[\"c1_w\"] + df[\"c2_w\"] + df[\"c3_w\"] + df[\"c4_w\"] + df[\"c5_w\"]"
   ]
  },
  {
   "cell_type": "code",
   "execution_count": null,
   "id": "a927d308",
   "metadata": {},
   "outputs": [],
   "source": []
  },
  {
   "cell_type": "markdown",
   "id": "3c09034e",
   "metadata": {},
   "source": [
    "## 5) Income"
   ]
  },
  {
   "cell_type": "code",
   "execution_count": 27,
   "id": "0afe3b5f",
   "metadata": {},
   "outputs": [
    {
     "name": "stdout",
     "output_type": "stream",
     "text": [
      "['Monthly' 'Daily' 'Weekly' 'Seasonally' 'Quarterly']\n"
     ]
    }
   ],
   "source": [
    "# viewing  the different values regularly incomes \n",
    "print (df['regularly_income1'].unique())"
   ]
  },
  {
   "cell_type": "code",
   "execution_count": 28,
   "id": "855bd73d",
   "metadata": {},
   "outputs": [
    {
     "name": "stdout",
     "output_type": "stream",
     "text": [
      "earning_income1    0\n",
      "dtype: int64\n"
     ]
    }
   ],
   "source": [
    "# checking the number of missing value for earning_income1 columns \n",
    "earning_income1_missing = df[['earning_income1']].isna().sum()\n",
    "print (earning_income1_missing)"
   ]
  },
  {
   "cell_type": "code",
   "execution_count": 29,
   "id": "6c51079d",
   "metadata": {},
   "outputs": [],
   "source": [
    "# Creation of a column for weekly income  \n",
    "df['weekly_income'] = np.where((df['regularly_income1'] == 'Monthly') , df['earning_income1']/4,\n",
    "                       np.where((df['regularly_income1'] == 'Daily') , df['earning_income1']*7,\n",
    "                        np.where((df['regularly_income1'] == 'Seasonally') , df['earning_income1']/8,\n",
    "                         np.where((df['regularly_income1'] == 'Seasonally') , df['earning_income1']/12,\n",
    "                          df[\"earning_income1\"]))))                             \n",
    "                   "
   ]
  },
  {
   "cell_type": "markdown",
   "id": "c7b0d0a3",
   "metadata": {},
   "source": [
    "## 6) recomputing of age as numerical-categorical \n"
   ]
  },
  {
   "cell_type": "code",
   "execution_count": 30,
   "id": "4c875131",
   "metadata": {},
   "outputs": [
    {
     "name": "stdout",
     "output_type": "stream",
     "text": [
      "['30-39 years' '50-59 years' '40-49 years' '18-29 years']\n"
     ]
    }
   ],
   "source": [
    "# viewing  the different values regularly incomes \n",
    "print (df['age'].unique())"
   ]
  },
  {
   "cell_type": "code",
   "execution_count": 31,
   "id": "a7387b09",
   "metadata": {},
   "outputs": [
    {
     "name": "stdout",
     "output_type": "stream",
     "text": [
      "age    0\n",
      "dtype: int64\n"
     ]
    }
   ],
   "source": [
    "# checking the number of missing value for age columns \n",
    "age_missing = df[['age']].isna().sum()\n",
    "print (age_missing)"
   ]
  },
  {
   "cell_type": "code",
   "execution_count": 32,
   "id": "0c6f8309",
   "metadata": {},
   "outputs": [],
   "source": [
    "df['age1'] = np.where((df['age'] == '18-29 years') , 1,\n",
    "                       np.where((df['age'] == '30-39 years') , 2,\n",
    "                        np.where((df['age'] == '40-49 years') , 3, 4)))   \n",
    "                                 "
   ]
  },
  {
   "cell_type": "markdown",
   "id": "34fc8703",
   "metadata": {},
   "source": [
    "# II. Creation of  subsets of status "
   ]
  },
  {
   "cell_type": "code",
   "execution_count": 33,
   "id": "5cf27f30",
   "metadata": {},
   "outputs": [
    {
     "data": {
      "text/plain": [
       "array(['National (host)', 'Refugee'], dtype=object)"
      ]
     },
     "execution_count": 33,
     "metadata": {},
     "output_type": "execute_result"
    }
   ],
   "source": [
    "# checking unique value for status\n",
    "df['status'].unique()"
   ]
  },
  {
   "cell_type": "code",
   "execution_count": 34,
   "id": "6a8010e6",
   "metadata": {},
   "outputs": [
    {
     "data": {
      "text/plain": [
       "Refugee            541\n",
       "National (host)    283\n",
       "Name: status, dtype: int64"
      ]
     },
     "execution_count": 34,
     "metadata": {},
     "output_type": "execute_result"
    }
   ],
   "source": [
    "# Counting number of row by status\n",
    "df['status'].value_counts()"
   ]
  },
  {
   "cell_type": "code",
   "execution_count": 35,
   "id": "ec470f20",
   "metadata": {},
   "outputs": [],
   "source": [
    "refugee_df = df[df['status']== 'Refugee']  # creating a subset for \"refugee\" from \"status\" column (data mining)\n",
    "host_df = df[df['status']== 'National (host)']  # creating a subset for \"host\" from \"status\" column (data mining)"
   ]
  },
  {
   "cell_type": "code",
   "execution_count": 36,
   "id": "f8311bce",
   "metadata": {},
   "outputs": [
    {
     "name": "stdout",
     "output_type": "stream",
     "text": [
      "Number of row in refugees subset is :  541 and for host subset is  283\n"
     ]
    }
   ],
   "source": [
    "# Checking exactitude of rows in dataset\n",
    "print(\"Number of row in refugees subset is : \",refugee_df.shape[0], \"and for host subset is \", host_df.shape[0])"
   ]
  },
  {
   "cell_type": "markdown",
   "id": "03b51df9",
   "metadata": {},
   "source": [
    "# III. Refugees analysis and ML "
   ]
  },
  {
   "cell_type": "code",
   "execution_count": 37,
   "id": "3da1f648",
   "metadata": {},
   "outputs": [
    {
     "data": {
      "text/html": [
       "<div><div id=cdffda06-b2bd-4229-8fc0-f23bfd006d08 style=\"display:none; background-color:#9D6CFF; color:white; width:200px; height:30px; padding-left:5px; border-radius:4px; flex-direction:row; justify-content:space-around; align-items:center;\" onmouseover=\"this.style.backgroundColor='#BA9BF8'\" onmouseout=\"this.style.backgroundColor='#9D6CFF'\" onclick=\"window.commands?.execute('create-mitosheet-from-dataframe-output');\">See Full Dataframe in Mito</div> <script> if (window.commands.hasCommand('create-mitosheet-from-dataframe-output')) document.getElementById('cdffda06-b2bd-4229-8fc0-f23bfd006d08').style.display = 'flex' </script> <table border=\"1\" class=\"dataframe\">\n",
       "  <thead>\n",
       "    <tr style=\"text-align: right;\">\n",
       "      <th></th>\n",
       "      <th>FCS</th>\n",
       "      <th>rcsi</th>\n",
       "      <th>weekly_income</th>\n",
       "    </tr>\n",
       "  </thead>\n",
       "  <tbody>\n",
       "    <tr>\n",
       "      <th>count</th>\n",
       "      <td>541.000000</td>\n",
       "      <td>541.000000</td>\n",
       "      <td>5.410000e+02</td>\n",
       "    </tr>\n",
       "    <tr>\n",
       "      <th>mean</th>\n",
       "      <td>39.213494</td>\n",
       "      <td>12.646950</td>\n",
       "      <td>9.945046e+05</td>\n",
       "    </tr>\n",
       "    <tr>\n",
       "      <th>std</th>\n",
       "      <td>17.242797</td>\n",
       "      <td>10.518024</td>\n",
       "      <td>3.619038e+06</td>\n",
       "    </tr>\n",
       "    <tr>\n",
       "      <th>min</th>\n",
       "      <td>0.000000</td>\n",
       "      <td>0.000000</td>\n",
       "      <td>1.250000e+03</td>\n",
       "    </tr>\n",
       "    <tr>\n",
       "      <th>25%</th>\n",
       "      <td>27.000000</td>\n",
       "      <td>5.000000</td>\n",
       "      <td>6.250000e+04</td>\n",
       "    </tr>\n",
       "    <tr>\n",
       "      <th>50%</th>\n",
       "      <td>38.000000</td>\n",
       "      <td>10.000000</td>\n",
       "      <td>1.400000e+05</td>\n",
       "    </tr>\n",
       "    <tr>\n",
       "      <th>75%</th>\n",
       "      <td>48.500000</td>\n",
       "      <td>18.000000</td>\n",
       "      <td>7.000000e+05</td>\n",
       "    </tr>\n",
       "    <tr>\n",
       "      <th>max</th>\n",
       "      <td>96.000000</td>\n",
       "      <td>56.000000</td>\n",
       "      <td>5.250000e+07</td>\n",
       "    </tr>\n",
       "  </tbody>\n",
       "</table></div>"
      ],
      "text/plain": [
       "              FCS        rcsi  weekly_income\n",
       "count  541.000000  541.000000   5.410000e+02\n",
       "mean    39.213494   12.646950   9.945046e+05\n",
       "std     17.242797   10.518024   3.619038e+06\n",
       "min      0.000000    0.000000   1.250000e+03\n",
       "25%     27.000000    5.000000   6.250000e+04\n",
       "50%     38.000000   10.000000   1.400000e+05\n",
       "75%     48.500000   18.000000   7.000000e+05\n",
       "max     96.000000   56.000000   5.250000e+07"
      ]
     },
     "execution_count": 37,
     "metadata": {},
     "output_type": "execute_result"
    }
   ],
   "source": [
    "# descriptive statistics outcome indicators (rcis, fCS and income)\n",
    "refugee_df[['FCS','rcsi','weekly_income']].describe()"
   ]
  },
  {
   "cell_type": "code",
   "execution_count": null,
   "id": "ae5cf031",
   "metadata": {},
   "outputs": [],
   "source": [
    "# Correlation between outcome indicators and demographic variable (Age respondent, HH size)\n",
    "  "
   ]
  },
  {
   "cell_type": "code",
   "execution_count": 38,
   "id": "25aab4e9",
   "metadata": {},
   "outputs": [
    {
     "data": {
      "image/png": "[encoded data removed]",
      "text/plain": [
       "<Figure size 432x288 with 2 Axes>"
      ]
     },
     "metadata": {
      "needs_background": "light"
     },
     "output_type": "display_data"
    }
   ],
   "source": [
    "heatmap= sns.heatmap(refugee_df[['FCS','rcsi','weekly_income','hh_size', 'age1']].corr(),cmap = 'Blues', annot = True)  \n",
    "heatmap.set_title('Correlation heatmap', pad =12)\n",
    "plt.show()"
   ]
  },
  {
   "cell_type": "code",
   "execution_count": 40,
   "id": "3256cedb",
   "metadata": {},
   "outputs": [
    {
     "data": {
      "text/plain": [
       "12.187301587301587"
      ]
     },
     "execution_count": 40,
     "metadata": {},
     "output_type": "execute_result"
    }
   ],
   "source": [
    "FM = refugee_df[refugee_df['gender_HH_type'] == 'F&M']\n",
    "mean_rcsi_FM = FM['rcsi'].mean()\n",
    "mean_rcsi_FM"
   ]
  },
  {
   "cell_type": "code",
   "execution_count": null,
   "id": "9fb47687",
   "metadata": {},
   "outputs": [],
   "source": []
  }
 ],
 "metadata": {
  "kernelspec": {
   "display_name": "Python 3 (ipykernel)",
   "language": "python",
   "name": "python3"
  },
  "language_info": {
   "codemirror_mode": {
    "name": "ipython",
    "version": 3
   },
   "file_extension": ".py",
   "mimetype": "text/x-python",
   "name": "python",
   "nbconvert_exporter": "python",
   "pygments_lexer": "ipython3",
   "version": "3.8.5"
  }
 },
 "nbformat": 4,
 "nbformat_minor": 5
}

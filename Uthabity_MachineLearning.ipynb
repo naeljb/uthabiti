{
 "cells": [
  {
   "cell_type": "code",
   "execution_count": 1,
   "id": "edd696b2",
   "metadata": {},
   "outputs": [],
   "source": [
    "import pandas as pd\n",
    "import numpy as np\n",
    "import seaborn as sns\n",
    "import matplotlib.pyplot as plt"
   ]
  },
  {
   "cell_type": "code",
   "execution_count": 2,
   "id": "f7be34b9",
   "metadata": {},
   "outputs": [],
   "source": [
    "# providing the dataset path\n",
    "data1 = \"C:/Users/Nael/Desktop/Uganda/Uganda Uthabiti_baseline/ML/baseline_dataset.csv\"\n",
    "# reading the csv file and named as df\n",
    "df = pd.read_csv(data1, encoding='latin-1')    "
   ]
  },
  {
   "cell_type": "code",
   "execution_count": 3,
   "id": "e1c690f3",
   "metadata": {},
   "outputs": [],
   "source": [
    "# checking  and # getting all the column names of the dataframe\n",
    "columns_names = list(df.columns)\n",
    "#print(columns_names)    # for printing the column name, remove # from this code line      "
   ]
  },
  {
   "cell_type": "code",
   "execution_count": 4,
   "id": "5df5165a",
   "metadata": {},
   "outputs": [
    {
     "data": {
      "text/plain": [
       "(824, 207)"
      ]
     },
     "execution_count": 4,
     "metadata": {},
     "output_type": "execute_result"
    }
   ],
   "source": [
    "df.shape"
   ]
  },
  {
   "cell_type": "markdown",
   "id": "fb315919",
   "metadata": {},
   "source": [
    "# I. Variables/columns creation \n"
   ]
  },
  {
   "cell_type": "markdown",
   "id": "fac40e4f",
   "metadata": {},
   "source": [
    "##  1) Household size "
   ]
  },
  {
   "cell_type": "code",
   "execution_count": 5,
   "id": "8f797b3d",
   "metadata": {},
   "outputs": [],
   "source": [
    "df[\"hh_size\"] = df['m total'] + df['f total']"
   ]
  },
  {
   "cell_type": "markdown",
   "id": "d2c7fdfb",
   "metadata": {},
   "source": [
    " ## 2)  Gendered household type"
   ]
  },
  {
   "cell_type": "code",
   "execution_count": 6,
   "id": "62a9ca50",
   "metadata": {},
   "outputs": [],
   "source": [
    "# Creation of a new separate column calculating number of male adults, female adulte and children in the household \n",
    "df['num_male_adult'] = df['m 18-29 years'] + df['m 30-59 years'] + df['m 60 years and above'] \n",
    "df['num_female_adult'] = df['f 18-29 years'] + df['f 30-59 years'] + df['f 60 years and above']\n",
    "df['num_children'] = df['m 0-17 years'] + df['f 0-17 years']"
   ]
  },
  {
   "cell_type": "code",
   "execution_count": 7,
   "id": "07dc729f",
   "metadata": {},
   "outputs": [],
   "source": [
    "# creation of a new  \"boolean\"  column for each gendered household type \n",
    "df['FM_gender'] = df.apply(lambda row: 1 if (row['num_male_adult'] >= 1 and row['num_female_adult'] >= 1) else 0, axis=1)\n",
    "df['FNM_gender'] =df.apply(lambda row: 1 if (row['num_male_adult'] == 0 and row['num_female_adult'] >= 1) else 0, axis=1)\n",
    "df['MNF_gender'] = df.apply(lambda row: 1 if (row['num_male_adult'] >= 1 and row['num_female_adult'] == 0) else 0, axis=1)\n",
    "df['CNA_gender'] = df.apply(lambda row: 1 if (row['num_male_adult'] == 0 and row['num_female_adult'] == 0) else 0, axis=1)"
   ]
  },
  {
   "cell_type": "code",
   "execution_count": 8,
   "id": "c09f5ec8",
   "metadata": {},
   "outputs": [
    {
     "name": "stdout",
     "output_type": "stream",
     "text": [
      "% of F&M is : 67 %\n"
     ]
    }
   ],
   "source": [
    "#  Calculation of percentage of Female & Male adult households\n",
    "count_FM = df['FM_gender'].value_counts()[1]\n",
    "print( \"% of F&M is :\", round((count_FM/df.shape[0]) *100),\"%\")"
   ]
  },
  {
   "cell_type": "code",
   "execution_count": 9,
   "id": "6f84554b",
   "metadata": {},
   "outputs": [
    {
     "name": "stdout",
     "output_type": "stream",
     "text": [
      "% of FNM is : 20 %\n"
     ]
    }
   ],
   "source": [
    "# Calcualation of Percentage of Female No Male adult households\n",
    "count_FNM = df['FNM_gender'].value_counts()[1]\n",
    "print( \"% of FNM is :\", round((count_FNM/df.shape[0]) *100), \"%\")"
   ]
  },
  {
   "cell_type": "code",
   "execution_count": 10,
   "id": "81a834d4",
   "metadata": {},
   "outputs": [
    {
     "name": "stdout",
     "output_type": "stream",
     "text": [
      "% of MNF is : 7 %\n"
     ]
    }
   ],
   "source": [
    "# Calculation of percentage of Male No Female adult households\n",
    "count_MNF = df['MNF_gender'].value_counts()[1]\n",
    "print( \"% of MNF is :\", round((count_MNF/df.shape[0]) *100), \"%\")"
   ]
  },
  {
   "cell_type": "code",
   "execution_count": 11,
   "id": "3a15f19b",
   "metadata": {},
   "outputs": [
    {
     "name": "stdout",
     "output_type": "stream",
     "text": [
      "% of CNA is : 6 %\n"
     ]
    }
   ],
   "source": [
    "# Calculation of Percentage of Children No adult households\n",
    "count_CNA = df['CNA_gender'].value_counts()[1]\n",
    "print( \"% of CNA is :\", round((count_CNA/df.shape[0]) *100), \"%\")"
   ]
  },
  {
   "cell_type": "code",
   "execution_count": 12,
   "id": "71d3882f",
   "metadata": {},
   "outputs": [],
   "source": [
    "# Creation of single column for gendered household type \n",
    "df['gender_HH_type'] = np.where((df['FM_gender'] == 1) & (df['FNM_gender'] == 0) & (df['MNF_gender'] == 0) & (df['CNA_gender'] == 0), 'F&M',\n",
    "                   np.where((df['FM_gender'] == 0) & (df['FNM_gender'] == 1) & (df['MNF_gender'] ==0) & (df['CNA_gender'] == 0), 'FNM',\n",
    "                   np.where((df['FM_gender'] == 0) & (df['FNM_gender'] == 0) & (df['MNF_gender'] == 1) & (df['CNA_gender'] == 0), 'MNF', 'CNA')))"
   ]
  },
  {
   "cell_type": "code",
   "execution_count": 13,
   "id": "6238ba80",
   "metadata": {},
   "outputs": [
    {
     "data": {
      "text/plain": [
       "F&M    548\n",
       "FNM    167\n",
       "MNF     60\n",
       "CNA     49\n",
       "Name: gender_HH_type, dtype: int64"
      ]
     },
     "execution_count": 13,
     "metadata": {},
     "output_type": "execute_result"
    }
   ],
   "source": [
    "# Count of gendered household type\n",
    "gender = df['gender_HH_type'].value_counts()\n",
    "gender"
   ]
  },
  {
   "cell_type": "code",
   "execution_count": null,
   "id": "294584be",
   "metadata": {},
   "outputs": [],
   "source": []
  },
  {
   "cell_type": "markdown",
   "id": "2140023f",
   "metadata": {},
   "source": [
    "## 3) Food Consumption Score"
   ]
  },
  {
   "cell_type": "code",
   "execution_count": 14,
   "id": "70124143",
   "metadata": {},
   "outputs": [
    {
     "data": {
      "text/plain": [
       "FC01    object\n",
       "FC02    object\n",
       "FC03    object\n",
       "FC04    object\n",
       "FC05    object\n",
       "FC06    object\n",
       "FC07    object\n",
       "FC08    object\n",
       "FC09    object\n",
       "dtype: object"
      ]
     },
     "execution_count": 14,
     "metadata": {},
     "output_type": "execute_result"
    }
   ],
   "source": [
    "# checking the data type for Food group consumption columns \n",
    "df[['FC01','FC02','FC03','FC04','FC05','FC06','FC07','FC08','FC09']].dtypes"
   ]
  },
  {
   "cell_type": "code",
   "execution_count": 15,
   "id": "20c78d1e",
   "metadata": {},
   "outputs": [
    {
     "name": "stdout",
     "output_type": "stream",
     "text": [
      "FC01    0\n",
      "FC02    0\n",
      "FC03    0\n",
      "FC04    0\n",
      "FC05    0\n",
      "FC06    0\n",
      "FC07    0\n",
      "FC08    0\n",
      "FC09    0\n",
      "dtype: int64\n"
     ]
    }
   ],
   "source": [
    "# checking the number of missing value for food group consumption columns \n",
    "FC_missing = df[['FC01','FC02','FC03','FC04','FC05','FC06','FC07','FC08','FC09']].isna().sum()\n",
    "print (FC_missing)"
   ]
  },
  {
   "cell_type": "code",
   "execution_count": 16,
   "id": "71288c58",
   "metadata": {},
   "outputs": [
    {
     "name": "stdout",
     "output_type": "stream",
     "text": [
      "['2 days' '7 days' '3 days' '4 days' '1 day' '6 days' '5 days' '0 day']\n",
      "['3 days' '6 days' '0 day' '7 days' '5 days' '4 days' '2 days' '1 day']\n"
     ]
    }
   ],
   "source": [
    "# viewing  the different values in FCO1 and so on\n",
    "print (df['FC01'].unique())\n",
    "print (df['FC02'].unique())"
   ]
  },
  {
   "cell_type": "code",
   "execution_count": 17,
   "id": "c686279f",
   "metadata": {},
   "outputs": [],
   "source": [
    "# creating/renaming food group consumption column and keeping the first value characters (ex: 2 days to 2)\n",
    "df['FC01_staple'] = df['FC01'].str.slice(stop=1)\n",
    "df['FC02_Pulse']  = df['FC02'].str.slice(stop=1)\n",
    "df['FC03_Vegetable'] = df['FC03'].str.slice(stop=1)\n",
    "df['FC04_Fruits'] = df['FC04'].str.slice(stop=1)\n",
    "df['FC05_Meat_Fish'] = df['FC05'].str.slice(stop=1)\n",
    "df['FC06_Milk'] = df['FC06'].str.slice(stop=1)\n",
    "df['FC07_Sugar'] = df['FC07'].str.slice(stop=1)\n",
    "df['FC08_Oil'] = df['FC08'].str.slice(stop=1)\n",
    "df['FC09_Condiment'] = df['FC09'].str.slice(stop=1)"
   ]
  },
  {
   "cell_type": "code",
   "execution_count": 18,
   "id": "77f4fc3a",
   "metadata": {},
   "outputs": [],
   "source": [
    "# Transforming columns as integer data type\n",
    "df['FC01_staple'] = pd.to_numeric(df['FC01_staple'], errors='coerce').astype(int)\n",
    "df['FC02_Pulse'] = pd.to_numeric(df['FC02_Pulse'], errors='coerce').astype(int)\n",
    "df['FC03_Vegetable'] = pd.to_numeric(df['FC03_Vegetable'], errors='coerce').astype(int)\n",
    "df['FC04_Fruits'] = pd.to_numeric(df['FC04_Fruits'], errors='coerce').astype(int)\n",
    "df['FC05_Meat_Fish'] = pd.to_numeric(df['FC05_Meat_Fish'], errors='coerce').astype(int)\n",
    "df['FC06_Milk'] = pd.to_numeric(df['FC06_Milk'], errors='coerce').astype(int)\n",
    "df['FC07_Sugar'] = pd.to_numeric(df['FC07_Sugar'], errors='coerce').astype(int)\n",
    "df['FC08_Oil'] = pd.to_numeric(df['FC08_Oil'], errors='coerce').astype(int)\n",
    "df['FC09_Condiment'] = pd.to_numeric(df['FC09_Condiment'], errors='coerce').astype(int)"
   ]
  },
  {
   "cell_type": "code",
   "execution_count": 19,
   "id": "602e32f8",
   "metadata": {},
   "outputs": [],
   "source": [
    "# Creating food group weighted colums\n",
    "df['FC01_staple_W'] = df['FC01_staple']*2\n",
    "df['FC02_Pulse_W']  = df['FC02_Pulse']*3\n",
    "df['FC03_Vegetable_1'] = df['FC03_Vegetable']*1\n",
    "df['FC04_Fruits_W'] = df['FC04_Fruits']*1\n",
    "df['FC05_Meat_Fish_W'] = df['FC05_Meat_Fish']*4\n",
    "df['FC06_Milk_W'] = df['FC06_Milk']*4\n",
    "df['FC07_Sugar_W'] = df['FC07_Sugar']*0.5\n",
    "df['FC08_Oil_W'] = df['FC08_Oil']*0.5\n",
    "df['FC09_Condiment_W'] = df['FC09_Condiment']*0"
   ]
  },
  {
   "cell_type": "code",
   "execution_count": 20,
   "id": "90737efa",
   "metadata": {},
   "outputs": [],
   "source": [
    "# computing the food consumption score\n",
    "df['FCS'] = df['FC01_staple_W']+df['FC02_Pulse_W']+df['FC03_Vegetable_1']+df['FC04_Fruits_W']+df['FC05_Meat_Fish_W']+df['FC06_Milk_W']+df['FC07_Sugar_W']+df['FC08_Oil_W']+df['FC09_Condiment_W']"
   ]
  },
  {
   "cell_type": "code",
   "execution_count": null,
   "id": "d6f647c0",
   "metadata": {},
   "outputs": [],
   "source": []
  },
  {
   "cell_type": "code",
   "execution_count": 21,
   "id": "e0a0e163",
   "metadata": {},
   "outputs": [],
   "source": [
    "FM_df = df[df['gender_HH_type']== 'F&M']  # creating a subset for \"F&M\" column (data mining)\n",
    "FNM_df = df[df['gender_HH_type']== 'FNM']  # creating a subset for \"FNM\" column (data mining)\n",
    "MNF_df = df[df['gender_HH_type']== 'MNF']  # creating a subset for \"MNF\" column (data mining)\n",
    "CNA_df = df[df['gender_HH_type']== 'CNA']  # creating a subset for \"CNA\" column (data mining)"
   ]
  },
  {
   "cell_type": "code",
   "execution_count": 22,
   "id": "acfe8d52",
   "metadata": {},
   "outputs": [],
   "source": [
    "# Mean and Median for F&M Gendered Household "
   ]
  },
  {
   "cell_type": "code",
   "execution_count": 23,
   "id": "097b51bf",
   "metadata": {},
   "outputs": [
    {
     "name": "stdout",
     "output_type": "stream",
     "text": [
      "Column is present in dataframe\n"
     ]
    }
   ],
   "source": [
    "if 'FCS' in FM_df.columns:\n",
    "    print('Column is present in dataframe')\n",
    "else:\n",
    "    print('Column is not present in dataframe')\n"
   ]
  },
  {
   "cell_type": "code",
   "execution_count": 24,
   "id": "aa07579c",
   "metadata": {},
   "outputs": [
    {
     "data": {
      "text/plain": [
       "count    548.00\n",
       "mean      43.49\n",
       "std       16.99\n",
       "min        0.00\n",
       "25%       32.00\n",
       "50%       42.00\n",
       "75%       55.00\n",
       "max      100.00\n",
       "Name: FCS, dtype: float64"
      ]
     },
     "execution_count": 24,
     "metadata": {},
     "output_type": "execute_result"
    }
   ],
   "source": [
    "round(FM_df['FCS'].describe(),2)\n"
   ]
  },
  {
   "cell_type": "code",
   "execution_count": 25,
   "id": "79fb34d0",
   "metadata": {},
   "outputs": [
    {
     "data": {
      "text/plain": [
       "42.0"
      ]
     },
     "execution_count": 25,
     "metadata": {},
     "output_type": "execute_result"
    }
   ],
   "source": [
    "round(np.median(FM_df['FCS']),2)    "
   ]
  },
  {
   "cell_type": "code",
   "execution_count": 26,
   "id": "74b13816",
   "metadata": {},
   "outputs": [],
   "source": [
    "# Mean and Median and for FNM Gendered Household"
   ]
  },
  {
   "cell_type": "code",
   "execution_count": 27,
   "id": "9de6f6c9",
   "metadata": {},
   "outputs": [
    {
     "data": {
      "text/plain": [
       "count    167.00\n",
       "mean      39.76\n",
       "std       16.50\n",
       "min        7.50\n",
       "25%       28.50\n",
       "50%       39.00\n",
       "75%       48.25\n",
       "max       89.00\n",
       "Name: FCS, dtype: float64"
      ]
     },
     "execution_count": 27,
     "metadata": {},
     "output_type": "execute_result"
    }
   ],
   "source": [
    "round(FNM_df['FCS'].describe(),2) "
   ]
  },
  {
   "cell_type": "code",
   "execution_count": 28,
   "id": "75a9bd93",
   "metadata": {},
   "outputs": [
    {
     "data": {
      "text/plain": [
       "39.0"
      ]
     },
     "execution_count": 28,
     "metadata": {},
     "output_type": "execute_result"
    }
   ],
   "source": [
    "round(np.median(FNM_df['FCS']),2)  "
   ]
  },
  {
   "cell_type": "code",
   "execution_count": 29,
   "id": "da8721f0",
   "metadata": {},
   "outputs": [],
   "source": [
    "# Mean and Median and for MNF Gendered Household"
   ]
  },
  {
   "cell_type": "code",
   "execution_count": 30,
   "id": "8a48dd68",
   "metadata": {},
   "outputs": [
    {
     "data": {
      "text/plain": [
       "count    60.00\n",
       "mean     43.52\n",
       "std      17.88\n",
       "min       8.00\n",
       "25%      31.88\n",
       "50%      44.00\n",
       "75%      53.25\n",
       "max      92.50\n",
       "Name: FCS, dtype: float64"
      ]
     },
     "execution_count": 30,
     "metadata": {},
     "output_type": "execute_result"
    }
   ],
   "source": [
    "round(MNF_df['FCS'].describe(),2)   "
   ]
  },
  {
   "cell_type": "code",
   "execution_count": 31,
   "id": "41a8a04d",
   "metadata": {},
   "outputs": [
    {
     "data": {
      "text/plain": [
       "44.0"
      ]
     },
     "execution_count": 31,
     "metadata": {},
     "output_type": "execute_result"
    }
   ],
   "source": [
    "round(np.median(MNF_df['FCS']),2)  "
   ]
  },
  {
   "cell_type": "code",
   "execution_count": 32,
   "id": "a1fa2c6b",
   "metadata": {},
   "outputs": [],
   "source": [
    "# Mean and Median and for CNA Gendered Household"
   ]
  },
  {
   "cell_type": "code",
   "execution_count": 33,
   "id": "24dd3aa2",
   "metadata": {},
   "outputs": [
    {
     "data": {
      "text/plain": [
       "count    49.00\n",
       "mean     30.82\n",
       "std      19.91\n",
       "min       4.00\n",
       "25%      15.50\n",
       "50%      25.00\n",
       "75%      44.00\n",
       "max      81.00\n",
       "Name: FCS, dtype: float64"
      ]
     },
     "execution_count": 33,
     "metadata": {},
     "output_type": "execute_result"
    }
   ],
   "source": [
    "round(CNA_df['FCS'].describe(),2)   "
   ]
  },
  {
   "cell_type": "code",
   "execution_count": 34,
   "id": "49e46e8d",
   "metadata": {},
   "outputs": [
    {
     "data": {
      "text/plain": [
       "25.0"
      ]
     },
     "execution_count": 34,
     "metadata": {},
     "output_type": "execute_result"
    }
   ],
   "source": [
    " round(np.median(CNA_df['FCS']),2)  "
   ]
  },
  {
   "cell_type": "code",
   "execution_count": 35,
   "id": "04c535d2",
   "metadata": {},
   "outputs": [
    {
     "data": {
      "text/plain": [
       "count    824.00\n",
       "mean      41.99\n",
       "std       17.40\n",
       "min        0.00\n",
       "25%       31.00\n",
       "50%       41.00\n",
       "75%       52.62\n",
       "max      100.00\n",
       "Name: FCS, dtype: float64"
      ]
     },
     "execution_count": 35,
     "metadata": {},
     "output_type": "execute_result"
    }
   ],
   "source": [
    "round(df['FCS'].describe(),2)"
   ]
  },
  {
   "cell_type": "code",
   "execution_count": 36,
   "id": "2211d3ae",
   "metadata": {},
   "outputs": [
    {
     "data": {
      "image/png": "[encoded data removed]",
      "text/plain": [
       "<Figure size 432x288 with 1 Axes>"
      ]
     },
     "metadata": {
      "needs_background": "light"
     },
     "output_type": "display_data"
    }
   ],
   "source": [
    "sns.boxplot(y='FCS',data=df)\n",
    "plt.show()"
   ]
  },
  {
   "cell_type": "code",
   "execution_count": 37,
   "id": "eef15860",
   "metadata": {},
   "outputs": [
    {
     "data": {
      "image/png": "[encoded data removed]",
      "text/plain": [
       "<Figure size 432x288 with 1 Axes>"
      ]
     },
     "metadata": {
      "needs_background": "light"
     },
     "output_type": "display_data"
    }
   ],
   "source": [
    "sns.boxplot(x='gender_HH_type',y='FCS',data=df)\n",
    "plt.title('Box plot of FCS by gendered household type')\n",
    "plt.show()\n",
    "\n"
   ]
  },
  {
   "cell_type": "code",
   "execution_count": 38,
   "id": "7191bfe6",
   "metadata": {},
   "outputs": [],
   "source": [
    "# computing the food consumption categories ( 0 = poor, 1 = Boder Line,  3 = Acceptable )\n",
    "df['FCS_category'] = np.where(df['FCS'] < 21.5, 0,\n",
    "                           np.where(df['FCS'] > 35, 2, 1))"
   ]
  },
  {
   "cell_type": "code",
   "execution_count": 39,
   "id": "a3f95e81",
   "metadata": {},
   "outputs": [
    {
     "name": "stdout",
     "output_type": "stream",
     "text": [
      " The percentage of people with poor FCS is: 13 %\n"
     ]
    }
   ],
   "source": [
    "# calculation of percentage  with poor FCS\n",
    "poor_FCS = df ['FCS_category']. value_counts()[0]\n",
    "num =  df.shape[0]\n",
    "\n",
    "percentage = round((poor_FCS / num) * 100)\n",
    "print (' The percentage of people with poor FCS is:',  percentage,'%')"
   ]
  },
  {
   "cell_type": "code",
   "execution_count": 40,
   "id": "c68a4a66",
   "metadata": {},
   "outputs": [],
   "source": [
    "# T-test for FCS on gendered household type"
   ]
  },
  {
   "cell_type": "code",
   "execution_count": 41,
   "id": "d3ee7957",
   "metadata": {},
   "outputs": [],
   "source": [
    "from scipy.stats import ttest_ind  # importing T-test from stats library "
   ]
  },
  {
   "cell_type": "code",
   "execution_count": 42,
   "id": "87fb0652",
   "metadata": {},
   "outputs": [
    {
     "name": "stdout",
     "output_type": "stream",
     "text": [
      "Ttest_indResult(statistic=-0.009534352692401193, pvalue=0.9923959402678745) \n",
      "  Note: if p-value less than 0.05 then means are statistically different\n"
     ]
    }
   ],
   "source": [
    "# test between FM and MNF\n",
    "TwoTail = ttest_ind(FM_df['FCS'],MNF_df['FCS'],equal_var = True)   \n",
    "print(TwoTail,\"\\n  Note: if p-value less than 0.05 then means are statistically different\")"
   ]
  },
  {
   "cell_type": "code",
   "execution_count": 43,
   "id": "21afdc0c",
   "metadata": {},
   "outputs": [
    {
     "name": "stdout",
     "output_type": "stream",
     "text": [
      "Ttest_indResult(statistic=-0.009534352692401193, pvalue=0.9923959402678745) \n",
      "  Note: if p-value less than 0.05 then means are statistically different\n"
     ]
    }
   ],
   "source": [
    "# test between FM and MNF\n",
    "TwoTail = ttest_ind(FM_df['FCS'],MNF_df['FCS'],equal_var = True)   \n",
    "print(TwoTail,\"\\n  Note: if p-value less than 0.05 then means are statistically different\")"
   ]
  },
  {
   "cell_type": "code",
   "execution_count": 44,
   "id": "1346beb8",
   "metadata": {},
   "outputs": [
    {
     "name": "stdout",
     "output_type": "stream",
     "text": [
      "Ttest_indResult(statistic=1.4788436803587695, pvalue=0.14058070785841228) \n",
      "  Note: if p-value less than 0.05 then means are statistically different\n"
     ]
    }
   ],
   "source": [
    "# test between FNM and MNF\n",
    "TwoTail = ttest_ind(MNF_df['FCS'],FNM_df['FCS'],equal_var = True)   \n",
    "print(TwoTail,\"\\n  Note: if p-value less than 0.05 then means are statistically different\")"
   ]
  },
  {
   "cell_type": "code",
   "execution_count": 45,
   "id": "32cfe06b",
   "metadata": {},
   "outputs": [
    {
     "name": "stdout",
     "output_type": "stream",
     "text": [
      "Ttest_indResult(statistic=3.1773499974248454, pvalue=0.0017059763603290547) \n",
      "  Note: if p-value less than 0.05 then means are statistically different\n"
     ]
    }
   ],
   "source": [
    "# test between FNM and CNA\n",
    "TwoTail = ttest_ind(FNM_df['FCS'],CNA_df['FCS'],equal_var = True)   \n",
    "print(TwoTail,\"\\n  Note: if p-value less than 0.05 then means are statistically different\")"
   ]
  },
  {
   "cell_type": "markdown",
   "id": "325fe6fa",
   "metadata": {},
   "source": [
    "#### 3.a Food consumption score by gendered household type"
   ]
  },
  {
   "cell_type": "code",
   "execution_count": null,
   "id": "ca73d4d5",
   "metadata": {},
   "outputs": [],
   "source": []
  },
  {
   "cell_type": "code",
   "execution_count": null,
   "id": "c0a1271f",
   "metadata": {},
   "outputs": [],
   "source": []
  },
  {
   "cell_type": "code",
   "execution_count": null,
   "id": "2d863c96",
   "metadata": {},
   "outputs": [],
   "source": []
  },
  {
   "cell_type": "markdown",
   "id": "080c7821",
   "metadata": {},
   "source": [
    "## 4) Reduced Coping Strategy index"
   ]
  },
  {
   "cell_type": "code",
   "execution_count": 46,
   "id": "4d3eac0d",
   "metadata": {},
   "outputs": [
    {
     "data": {
      "text/plain": [
       "CS01    object\n",
       "CS02    object\n",
       "CS03    object\n",
       "CS04    object\n",
       "CS05    object\n",
       "dtype: object"
      ]
     },
     "execution_count": 46,
     "metadata": {},
     "output_type": "execute_result"
    }
   ],
   "source": [
    "# checking the data type for coping strategy columns \n",
    "df[['CS01','CS02','CS03','CS04','CS05']].dtypes"
   ]
  },
  {
   "cell_type": "code",
   "execution_count": 47,
   "id": "6223b9d2",
   "metadata": {},
   "outputs": [
    {
     "name": "stdout",
     "output_type": "stream",
     "text": [
      "CS01    0\n",
      "CS02    0\n",
      "CS03    0\n",
      "CS04    0\n",
      "CS05    0\n",
      "dtype: int64\n"
     ]
    }
   ],
   "source": [
    "# checking the number of missing value for food group consumption columns \n",
    "CS_missing = df[['CS01','CS02','CS03','CS04','CS05']].isna().sum()\n",
    "print (CS_missing)"
   ]
  },
  {
   "cell_type": "code",
   "execution_count": 48,
   "id": "9be43b92",
   "metadata": {},
   "outputs": [
    {
     "name": "stdout",
     "output_type": "stream",
     "text": [
      "['4 days' '0 day' '1 day' '2 days' '3 days' '5 days' '7 days' '6 days']\n",
      "['2 days' '1 day' '0 day' '3 days' '4 days' '5 days' '6 days' '7 days']\n"
     ]
    }
   ],
   "source": [
    "# viewing  the different values in CSO1 and so on\n",
    "print (df['CS01'].unique())\n",
    "print (df['CS02'].unique())"
   ]
  },
  {
   "cell_type": "code",
   "execution_count": 49,
   "id": "494785c0",
   "metadata": {},
   "outputs": [],
   "source": [
    "# creating/renaming the coping strategy column and keeping the first value characters (ex: 2 days to 2)\n",
    "df[\"c1\"] = df [\"CS01\"].str[0]\n",
    "df[\"c2\"] = df [\"CS02\"].str[0]\n",
    "df[\"c3\"] = df [\"CS03\"].str[0]\n",
    "df[\"c4\"] = df [\"CS04\"].str[0]\n",
    "df[\"c5\"] = df [\"CS05\"].str[0]"
   ]
  },
  {
   "cell_type": "code",
   "execution_count": 50,
   "id": "33172c2d",
   "metadata": {},
   "outputs": [],
   "source": [
    "# Transforming columns as integer data type\n",
    "df[\"c1\"] = df [\"c1\"].astype(int)\n",
    "df[\"c2\"] = df [\"c2\"].astype(int)\n",
    "df[\"c3\"] = df [\"c3\"].astype(int)\n",
    "df[\"c4\"] = df [\"c4\"].astype(int)\n",
    "df[\"c5\"] = df [\"c5\"].astype(int)"
   ]
  },
  {
   "cell_type": "code",
   "execution_count": 51,
   "id": "c959c6ef",
   "metadata": {},
   "outputs": [],
   "source": [
    "# Creating coping weighted colums\n",
    "df[\"c1_w\"] = df [\"c1\"]* 1\n",
    "df[\"c2_w\"] = df [\"c2\"]*2\n",
    "df[\"c3_w\"] = df [\"c3\"]*1\n",
    "df[\"c4_w\"] = df [\"c4\"]*3\n",
    "df[\"c5_w\"] = df [\"c5\"]*1"
   ]
  },
  {
   "cell_type": "code",
   "execution_count": 52,
   "id": "07d7b70e",
   "metadata": {},
   "outputs": [],
   "source": [
    "# Computing reduced coping strategy index\n",
    "df[\"rcsi\"] = df[\"c1_w\"] + df[\"c2_w\"] + df[\"c3_w\"] + df[\"c4_w\"] + df[\"c5_w\"]"
   ]
  },
  {
   "cell_type": "code",
   "execution_count": null,
   "id": "a927d308",
   "metadata": {},
   "outputs": [],
   "source": []
  },
  {
   "cell_type": "markdown",
   "id": "3c09034e",
   "metadata": {},
   "source": [
    "## 5) Income"
   ]
  },
  {
   "cell_type": "code",
   "execution_count": 53,
   "id": "0afe3b5f",
   "metadata": {},
   "outputs": [
    {
     "name": "stdout",
     "output_type": "stream",
     "text": [
      "['Monthly' 'Daily' 'Weekly' 'Seasonally' 'Quarterly']\n"
     ]
    }
   ],
   "source": [
    "# viewing  the different values regularly incomes \n",
    "print (df['regularly_income1'].unique())"
   ]
  },
  {
   "cell_type": "code",
   "execution_count": 54,
   "id": "855bd73d",
   "metadata": {},
   "outputs": [
    {
     "name": "stdout",
     "output_type": "stream",
     "text": [
      "earning_income1    0\n",
      "dtype: int64\n"
     ]
    }
   ],
   "source": [
    "# checking the number of missing value for earning_income1 columns \n",
    "earning_income1_missing = df[['earning_income1']].isna().sum()\n",
    "print (earning_income1_missing)"
   ]
  },
  {
   "cell_type": "code",
   "execution_count": 55,
   "id": "6c51079d",
   "metadata": {},
   "outputs": [],
   "source": [
    "# Creation of a column for weekly income  \n",
    "df['weekly_income'] = np.where((df['regularly_income1'] == 'Monthly') , df['earning_income1']/4,\n",
    "                       np.where((df['regularly_income1'] == 'Daily') , df['earning_income1']*7,\n",
    "                        np.where((df['regularly_income1'] == 'Seasonally') , df['earning_income1']/8,\n",
    "                         np.where((df['regularly_income1'] == 'Seasonally') , df['earning_income1']/12,\n",
    "                          df[\"earning_income1\"]))))                             \n",
    "                   "
   ]
  },
  {
   "cell_type": "code",
   "execution_count": 56,
   "id": "d7a0604b",
   "metadata": {},
   "outputs": [],
   "source": [
    "df['weekly_income_$'] = df['weekly_income'] / 3745"
   ]
  },
  {
   "cell_type": "code",
   "execution_count": null,
   "id": "b2da5347",
   "metadata": {},
   "outputs": [],
   "source": []
  },
  {
   "cell_type": "code",
   "execution_count": 57,
   "id": "0144f6d3",
   "metadata": {},
   "outputs": [],
   "source": [
    "df['net_income'] = df['spend_food'] - df['spend_cooking'] - df['spend_energy_lighting?'] - df['spend_health'] - df['spend_education'] - df['spend_others']"
   ]
  },
  {
   "cell_type": "code",
   "execution_count": 58,
   "id": "44ba1878",
   "metadata": {},
   "outputs": [],
   "source": [
    "df ['net_income_positive'] = np.where((df['net_income'] > 0) , 1, 0)"
   ]
  },
  {
   "cell_type": "code",
   "execution_count": null,
   "id": "c4adfa73",
   "metadata": {},
   "outputs": [],
   "source": []
  },
  {
   "cell_type": "markdown",
   "id": "c7b0d0a3",
   "metadata": {},
   "source": [
    "## 6) recomputing of age as numerical-categorical \n"
   ]
  },
  {
   "cell_type": "code",
   "execution_count": 59,
   "id": "4c875131",
   "metadata": {},
   "outputs": [
    {
     "name": "stdout",
     "output_type": "stream",
     "text": [
      "['30-39 years' '50-59 years' '40-49 years' '18-29 years']\n"
     ]
    }
   ],
   "source": [
    "# viewing  the different values regularly incomes \n",
    "print (df['age'].unique())"
   ]
  },
  {
   "cell_type": "code",
   "execution_count": 60,
   "id": "a7387b09",
   "metadata": {},
   "outputs": [
    {
     "name": "stdout",
     "output_type": "stream",
     "text": [
      "age    0\n",
      "dtype: int64\n"
     ]
    }
   ],
   "source": [
    "# checking the number of missing value for age columns \n",
    "age_missing = df[['age']].isna().sum()\n",
    "print (age_missing)"
   ]
  },
  {
   "cell_type": "code",
   "execution_count": 61,
   "id": "0c6f8309",
   "metadata": {},
   "outputs": [],
   "source": [
    "df['age1'] = np.where((df['age'] == '18-29 years') , 1,\n",
    "                       np.where((df['age'] == '30-39 years') , 2,\n",
    "                        np.where((df['age'] == '40-49 years') , 3, 4)))   \n",
    "                                 "
   ]
  },
  {
   "cell_type": "markdown",
   "id": "34fc8703",
   "metadata": {},
   "source": [
    "# II. Creation of  subsets of status "
   ]
  },
  {
   "cell_type": "code",
   "execution_count": 62,
   "id": "5cf27f30",
   "metadata": {},
   "outputs": [
    {
     "data": {
      "text/plain": [
       "array(['National (host)', 'Refugee'], dtype=object)"
      ]
     },
     "execution_count": 62,
     "metadata": {},
     "output_type": "execute_result"
    }
   ],
   "source": [
    "# checking unique value for status\n",
    "df['status'].unique()"
   ]
  },
  {
   "cell_type": "code",
   "execution_count": 63,
   "id": "6a8010e6",
   "metadata": {},
   "outputs": [
    {
     "data": {
      "text/plain": [
       "Refugee            541\n",
       "National (host)    283\n",
       "Name: status, dtype: int64"
      ]
     },
     "execution_count": 63,
     "metadata": {},
     "output_type": "execute_result"
    }
   ],
   "source": [
    "# Counting number of row by status\n",
    "df['status'].value_counts()"
   ]
  },
  {
   "cell_type": "code",
   "execution_count": 64,
   "id": "ec470f20",
   "metadata": {},
   "outputs": [],
   "source": [
    "refugee_df = df[df['status']== 'Refugee']  # creating a subset for \"refugee\" from \"status\" column (data mining)\n",
    "host_df = df[df['status']== 'National (host)']  # creating a subset for \"host\" from \"status\" column (data mining)"
   ]
  },
  {
   "cell_type": "code",
   "execution_count": 97,
   "id": "2f015ee4",
   "metadata": {},
   "outputs": [],
   "source": [
    "path = \"C:/Users/Nael/Desktop/Uganda/Uganda Uthabiti_baseline/ML\"\n",
    "refugee_df.to_csv('C:/Users/Nael/Desktop/Uganda/Uganda Uthabiti_baseline/ML/refugee_df.csv')\n",
    "                 "
   ]
  },
  {
   "cell_type": "code",
   "execution_count": 66,
   "id": "f8311bce",
   "metadata": {},
   "outputs": [
    {
     "name": "stdout",
     "output_type": "stream",
     "text": [
      "Number of row in refugees subset is :  541 and for host subset is  283\n"
     ]
    }
   ],
   "source": [
    "# Checking exactitude of rows in dataset\n",
    "print(\"Number of row in refugees subset is : \",refugee_df.shape[0], \"and for host subset is \", host_df.shape[0])"
   ]
  },
  {
   "cell_type": "markdown",
   "id": "03b51df9",
   "metadata": {},
   "source": [
    "# III. Refugees analysis and ML "
   ]
  },
  {
   "cell_type": "markdown",
   "id": "518501b3",
   "metadata": {},
   "source": [
    "## 3.a Exploratory Data Analysis (EDA) for refugees"
   ]
  },
  {
   "cell_type": "code",
   "execution_count": 67,
   "id": "3da1f648",
   "metadata": {},
   "outputs": [
    {
     "data": {
      "text/html": [
       "<div><div id=c81443da-e3c1-471a-969d-239ed24b7d8c style=\"display:none; background-color:#9D6CFF; color:white; width:200px; height:30px; padding-left:5px; border-radius:4px; flex-direction:row; justify-content:space-around; align-items:center;\" onmouseover=\"this.style.backgroundColor='#BA9BF8'\" onmouseout=\"this.style.backgroundColor='#9D6CFF'\" onclick=\"window.commands?.execute('create-mitosheet-from-dataframe-output');\">See Full Dataframe in Mito</div> <script> if (window.commands.hasCommand('create-mitosheet-from-dataframe-output')) document.getElementById('c81443da-e3c1-471a-969d-239ed24b7d8c').style.display = 'flex' </script> <table border=\"1\" class=\"dataframe\">\n",
       "  <thead>\n",
       "    <tr style=\"text-align: right;\">\n",
       "      <th></th>\n",
       "      <th>FCS</th>\n",
       "      <th>rcsi</th>\n",
       "      <th>weekly_income_$</th>\n",
       "      <th>net_income</th>\n",
       "    </tr>\n",
       "  </thead>\n",
       "  <tbody>\n",
       "    <tr>\n",
       "      <th>count</th>\n",
       "      <td>541.000000</td>\n",
       "      <td>541.000000</td>\n",
       "      <td>541.000000</td>\n",
       "      <td>5.410000e+02</td>\n",
       "    </tr>\n",
       "    <tr>\n",
       "      <th>mean</th>\n",
       "      <td>39.213494</td>\n",
       "      <td>12.646950</td>\n",
       "      <td>265.555299</td>\n",
       "      <td>-1.097770e+05</td>\n",
       "    </tr>\n",
       "    <tr>\n",
       "      <th>std</th>\n",
       "      <td>17.242797</td>\n",
       "      <td>10.518024</td>\n",
       "      <td>966.365168</td>\n",
       "      <td>4.086766e+05</td>\n",
       "    </tr>\n",
       "    <tr>\n",
       "      <th>min</th>\n",
       "      <td>0.000000</td>\n",
       "      <td>0.000000</td>\n",
       "      <td>0.333778</td>\n",
       "      <td>-7.616000e+06</td>\n",
       "    </tr>\n",
       "    <tr>\n",
       "      <th>25%</th>\n",
       "      <td>27.000000</td>\n",
       "      <td>5.000000</td>\n",
       "      <td>16.688919</td>\n",
       "      <td>-1.150000e+05</td>\n",
       "    </tr>\n",
       "    <tr>\n",
       "      <th>50%</th>\n",
       "      <td>38.000000</td>\n",
       "      <td>10.000000</td>\n",
       "      <td>37.383178</td>\n",
       "      <td>-3.000000e+04</td>\n",
       "    </tr>\n",
       "    <tr>\n",
       "      <th>75%</th>\n",
       "      <td>48.500000</td>\n",
       "      <td>18.000000</td>\n",
       "      <td>186.915888</td>\n",
       "      <td>2.000000e+03</td>\n",
       "    </tr>\n",
       "    <tr>\n",
       "      <th>max</th>\n",
       "      <td>96.000000</td>\n",
       "      <td>56.000000</td>\n",
       "      <td>14018.691589</td>\n",
       "      <td>1.675000e+06</td>\n",
       "    </tr>\n",
       "  </tbody>\n",
       "</table></div>"
      ],
      "text/plain": [
       "              FCS        rcsi  weekly_income_$    net_income\n",
       "count  541.000000  541.000000       541.000000  5.410000e+02\n",
       "mean    39.213494   12.646950       265.555299 -1.097770e+05\n",
       "std     17.242797   10.518024       966.365168  4.086766e+05\n",
       "min      0.000000    0.000000         0.333778 -7.616000e+06\n",
       "25%     27.000000    5.000000        16.688919 -1.150000e+05\n",
       "50%     38.000000   10.000000        37.383178 -3.000000e+04\n",
       "75%     48.500000   18.000000       186.915888  2.000000e+03\n",
       "max     96.000000   56.000000     14018.691589  1.675000e+06"
      ]
     },
     "execution_count": 67,
     "metadata": {},
     "output_type": "execute_result"
    }
   ],
   "source": [
    "# descriptive statistics outcome indicators (rcis, fCS and income)\n",
    "refugee_df[['FCS','rcsi','weekly_income_$','net_income']].describe()"
   ]
  },
  {
   "cell_type": "code",
   "execution_count": 68,
   "id": "8aa3a8d1",
   "metadata": {},
   "outputs": [
    {
     "name": "stdout",
     "output_type": "stream",
     "text": [
      " The percentage of refugees with poor FCS is: 17 %\n"
     ]
    }
   ],
   "source": [
    "# calculation of percentage refugees with poor FCS\n",
    "num_poor_FCS = refugee_df ['FCS_category']. value_counts()[0]\n",
    "num_refugees =  refugee_df.shape[0]\n",
    "\n",
    "percentage_poor = round((num_poor_FCS / num_refugees) * 100)\n",
    "print (' The percentage of refugees with poor FCS is:',  percentage_poor,'%')"
   ]
  },
  {
   "cell_type": "code",
   "execution_count": 69,
   "id": "e26f3ff1",
   "metadata": {},
   "outputs": [
    {
     "name": "stdout",
     "output_type": "stream",
     "text": [
      " The percentage of refugees with borderline FCS is: 25 %\n"
     ]
    }
   ],
   "source": [
    "# calculation of percentage refugees with boderline FCS\n",
    "num_border_FCS = refugee_df ['FCS_category']. value_counts()[1]\n",
    "\n",
    "percentage_border = round((num_border_FCS / num_refugees) * 100)\n",
    "print (' The percentage of refugees with borderline FCS is:',  percentage_border,'%')"
   ]
  },
  {
   "cell_type": "code",
   "execution_count": 70,
   "id": "198832c9",
   "metadata": {},
   "outputs": [
    {
     "name": "stdout",
     "output_type": "stream",
     "text": [
      "Reduced coping strategy index for refugee is:  12.6\n"
     ]
    }
   ],
   "source": [
    "# calculation of mean rCSI for refugees \n",
    "refugees_rcsi = round(refugee_df['rcsi']. mean(),1)\n",
    "print('Reduced coping strategy index for refugee is: ',refugees_rcsi)"
   ]
  },
  {
   "cell_type": "code",
   "execution_count": 71,
   "id": "5d50fd0c",
   "metadata": {},
   "outputs": [
    {
     "data": {
      "image/png": "[encoded data removed]",
      "text/plain": [
       "<Figure size 432x288 with 1 Axes>"
      ]
     },
     "metadata": {
      "needs_background": "light"
     },
     "output_type": "display_data"
    }
   ],
   "source": [
    "# distribution of refugee rCSI\n",
    "plt.hist(refugee_df['rcsi'],bins =20)\n",
    "plt.show()"
   ]
  },
  {
   "cell_type": "code",
   "execution_count": 72,
   "id": "e5772749",
   "metadata": {},
   "outputs": [
    {
     "data": {
      "image/png": "[encoded data removed]",
      "text/plain": [
       "<Figure size 432x288 with 1 Axes>"
      ]
     },
     "metadata": {
      "needs_background": "light"
     },
     "output_type": "display_data"
    }
   ],
   "source": [
    "# distribution of refugee  weekly income\n",
    "plt.hist(refugee_df['weekly_income_$'])\n",
    "plt.show()"
   ]
  },
  {
   "cell_type": "code",
   "execution_count": 73,
   "id": "7b0f2025",
   "metadata": {},
   "outputs": [
    {
     "data": {
      "text/plain": [
       "0    387\n",
       "1    154\n",
       "Name: net_income_positive, dtype: int64"
      ]
     },
     "execution_count": 73,
     "metadata": {},
     "output_type": "execute_result"
    }
   ],
   "source": [
    "\n",
    "refugee_df['net_income_positive'].value_counts()"
   ]
  },
  {
   "cell_type": "code",
   "execution_count": null,
   "id": "0fcfd7af",
   "metadata": {},
   "outputs": [],
   "source": []
  },
  {
   "cell_type": "code",
   "execution_count": 74,
   "id": "ae5cf031",
   "metadata": {},
   "outputs": [],
   "source": [
    "# Correlation between outcome indicators and demographic variable (Age respondent, HH size)\n",
    "  "
   ]
  },
  {
   "cell_type": "code",
   "execution_count": 75,
   "id": "25aab4e9",
   "metadata": {},
   "outputs": [
    {
     "data": {
      "image/png": "[encoded data removed]",
      "text/plain": [
       "<Figure size 432x288 with 2 Axes>"
      ]
     },
     "metadata": {
      "needs_background": "light"
     },
     "output_type": "display_data"
    }
   ],
   "source": [
    "heatmap= sns.heatmap(refugee_df[['FCS','rcsi','weekly_income_$','hh_size', 'age1']].corr(),cmap = 'Blues', annot = True)  \n",
    "heatmap.set_title('Correlation heatmap', pad =12)\n",
    "plt.show()"
   ]
  },
  {
   "cell_type": "code",
   "execution_count": 76,
   "id": "3256cedb",
   "metadata": {},
   "outputs": [
    {
     "data": {
      "text/plain": [
       "12.187301587301587"
      ]
     },
     "execution_count": 76,
     "metadata": {},
     "output_type": "execute_result"
    }
   ],
   "source": [
    "FM = refugee_df[refugee_df['gender_HH_type'] == 'F&M']\n",
    "mean_rcsi_FM = FM['rcsi'].mean()\n",
    "mean_rcsi_FM"
   ]
  },
  {
   "cell_type": "markdown",
   "id": "aafda06a",
   "metadata": {},
   "source": [
    "## 3.b Clustering analysis for refugees "
   ]
  },
  {
   "cell_type": "code",
   "execution_count": 77,
   "id": "2603e1b4",
   "metadata": {},
   "outputs": [],
   "source": [
    "from sklearn.preprocessing import StandardScaler\n",
    "from sklearn.cluster import KMeans"
   ]
  },
  {
   "cell_type": "code",
   "execution_count": 78,
   "id": "e232f800",
   "metadata": {},
   "outputs": [
    {
     "name": "stdout",
     "output_type": "stream",
     "text": [
      "FCS        0\n",
      "rcsi       0\n",
      "age1       0\n",
      "hh_size    0\n",
      "dtype: int64\n"
     ]
    }
   ],
   "source": [
    "# checking one more time for no missing value\n",
    "checking_missing = refugee_df[['FCS','rcsi','age1','hh_size']].isna().sum()\n",
    "print (checking_missing)"
   ]
  },
  {
   "cell_type": "markdown",
   "id": "6ad653d7",
   "metadata": {},
   "source": [
    "### Features engineering for refugees attributes"
   ]
  },
  {
   "cell_type": "code",
   "execution_count": 79,
   "id": "813afe56",
   "metadata": {},
   "outputs": [],
   "source": [
    "# Selecting features and converting into numpy array\n",
    "\n",
    "#x = np.asarray(refugee_df[['FCS_category','rcsi','age1','hh_size']]) \n",
    "x = np.asarray(refugee_df[['FCS','rcsi']])"
   ]
  },
  {
   "cell_type": "code",
   "execution_count": 80,
   "id": "c1a55e10",
   "metadata": {},
   "outputs": [],
   "source": [
    "scaler = StandardScaler()"
   ]
  },
  {
   "cell_type": "code",
   "execution_count": 81,
   "id": "ef831b7b",
   "metadata": {},
   "outputs": [],
   "source": [
    "x = scaler.fit(x).transform(x) # normalizing"
   ]
  },
  {
   "cell_type": "code",
   "execution_count": 82,
   "id": "1b6468ad",
   "metadata": {},
   "outputs": [
    {
     "data": {
      "text/plain": [
       "array([[-0.21556423,  0.69973744],\n",
       "       [ 0.04565584,  1.08038897]])"
      ]
     },
     "execution_count": 82,
     "metadata": {},
     "output_type": "execute_result"
    }
   ],
   "source": [
    "x[0:2] # checking normalization for the firt two rows is done"
   ]
  },
  {
   "cell_type": "markdown",
   "id": "3ddadeca",
   "metadata": {},
   "source": [
    "### Computing inertia and determination of  optimum number of clusters"
   ]
  },
  {
   "cell_type": "code",
   "execution_count": 83,
   "id": "c37ab9d6",
   "metadata": {},
   "outputs": [
    {
     "name": "stderr",
     "output_type": "stream",
     "text": [
      "C:\\Users\\Nael\\anaconda3\\lib\\site-packages\\sklearn\\cluster\\_kmeans.py:1334: UserWarning: KMeans is known to have a memory leak on Windows with MKL, when there are less chunks than available threads. You can avoid it by setting the environment variable OMP_NUM_THREADS=3.\n",
      "  warnings.warn(\n",
      "C:\\Users\\Nael\\anaconda3\\lib\\site-packages\\sklearn\\cluster\\_kmeans.py:1334: UserWarning: KMeans is known to have a memory leak on Windows with MKL, when there are less chunks than available threads. You can avoid it by setting the environment variable OMP_NUM_THREADS=3.\n",
      "  warnings.warn(\n",
      "C:\\Users\\Nael\\anaconda3\\lib\\site-packages\\sklearn\\cluster\\_kmeans.py:1334: UserWarning: KMeans is known to have a memory leak on Windows with MKL, when there are less chunks than available threads. You can avoid it by setting the environment variable OMP_NUM_THREADS=3.\n",
      "  warnings.warn(\n",
      "C:\\Users\\Nael\\anaconda3\\lib\\site-packages\\sklearn\\cluster\\_kmeans.py:1334: UserWarning: KMeans is known to have a memory leak on Windows with MKL, when there are less chunks than available threads. You can avoid it by setting the environment variable OMP_NUM_THREADS=3.\n",
      "  warnings.warn(\n",
      "C:\\Users\\Nael\\anaconda3\\lib\\site-packages\\sklearn\\cluster\\_kmeans.py:1334: UserWarning: KMeans is known to have a memory leak on Windows with MKL, when there are less chunks than available threads. You can avoid it by setting the environment variable OMP_NUM_THREADS=3.\n",
      "  warnings.warn(\n",
      "C:\\Users\\Nael\\anaconda3\\lib\\site-packages\\sklearn\\cluster\\_kmeans.py:1334: UserWarning: KMeans is known to have a memory leak on Windows with MKL, when there are less chunks than available threads. You can avoid it by setting the environment variable OMP_NUM_THREADS=3.\n",
      "  warnings.warn(\n",
      "C:\\Users\\Nael\\anaconda3\\lib\\site-packages\\sklearn\\cluster\\_kmeans.py:1334: UserWarning: KMeans is known to have a memory leak on Windows with MKL, when there are less chunks than available threads. You can avoid it by setting the environment variable OMP_NUM_THREADS=3.\n",
      "  warnings.warn(\n",
      "C:\\Users\\Nael\\anaconda3\\lib\\site-packages\\sklearn\\cluster\\_kmeans.py:1334: UserWarning: KMeans is known to have a memory leak on Windows with MKL, when there are less chunks than available threads. You can avoid it by setting the environment variable OMP_NUM_THREADS=3.\n",
      "  warnings.warn(\n",
      "C:\\Users\\Nael\\anaconda3\\lib\\site-packages\\sklearn\\cluster\\_kmeans.py:1334: UserWarning: KMeans is known to have a memory leak on Windows with MKL, when there are less chunks than available threads. You can avoid it by setting the environment variable OMP_NUM_THREADS=3.\n",
      "  warnings.warn(\n",
      "C:\\Users\\Nael\\anaconda3\\lib\\site-packages\\sklearn\\cluster\\_kmeans.py:1334: UserWarning: KMeans is known to have a memory leak on Windows with MKL, when there are less chunks than available threads. You can avoid it by setting the environment variable OMP_NUM_THREADS=3.\n",
      "  warnings.warn(\n"
     ]
    },
    {
     "data": {
      "image/png": "[encoded data removed]",
      "text/plain": [
       "<Figure size 432x288 with 1 Axes>"
      ]
     },
     "metadata": {},
     "output_type": "display_data"
    }
   ],
   "source": [
    "# Creating a variable which is an empty list that store the inertia for each K \n",
    "\n",
    "inertia = []\n",
    "\n",
    "#  for loop \n",
    "\n",
    "for a in range (1,11):                 #  a for loop that will iterate over a value ranging from 1 to 10 (K)\n",
    "    cluster = KMeans (n_clusters = a)  #  instance of K-Means\n",
    "    cluster.fit(x)                     #  Fitting the instance of K-Means to selected features\n",
    "    inertia.append (cluster.inertia_)  #  computing and adding the inertias to the empty list \n",
    "\n",
    "# Creating a list of number of clusters from 1 to 10\n",
    "\n",
    "k = list(range(1,11))\n",
    "\n",
    "# Plotting number of clusters and the computed inertias\n",
    "\n",
    "plt.style.use(\"ggplot\")\n",
    "plt.xticks(range(1,11),fontsize=10)\n",
    "plt.yticks(fontsize=10)\n",
    "plt.xlabel(\"Number of Clusters\", fontsize=12)\n",
    "plt.ylabel(\"Inertia\", fontsize=12)\n",
    "sns.lineplot(x = k , y =inertia)\n",
    "plt.show()     "
   ]
  },
  {
   "cell_type": "code",
   "execution_count": 84,
   "id": "ebd4352a",
   "metadata": {},
   "outputs": [
    {
     "name": "stdout",
     "output_type": "stream",
     "text": [
      "[1082.0, 709.2201028303734, 422.36979649201044, 324.7659935539539, 237.05230297814296, 195.7803005362021, 173.26111378058036, 151.51707428107093, 133.22558891919763, 119.52584499005285]\n"
     ]
    }
   ],
   "source": [
    "# printing the list of inertia values \n",
    "\n",
    "print (inertia)"
   ]
  },
  {
   "cell_type": "code",
   "execution_count": 85,
   "id": "99f631b0",
   "metadata": {},
   "outputs": [
    {
     "name": "stdout",
     "output_type": "stream",
     "text": [
      "The optimun number of cluster is 3\n"
     ]
    }
   ],
   "source": [
    "# locating the elbow point\n",
    "\n",
    "from kneed import KneeLocator\n",
    "\n",
    "kl = KneeLocator(range(1, 11), inertia, curve=\"convex\", direction=\"decreasing\")\n",
    "\n",
    "opt = kl.elbow\n",
    "\n",
    "print('The optimun number of cluster is' , opt)"
   ]
  },
  {
   "cell_type": "markdown",
   "id": "4f809656",
   "metadata": {},
   "source": [
    "### K-Means with the optimum number of K and assigning each data point to a cluster for refugees"
   ]
  },
  {
   "cell_type": "code",
   "execution_count": 86,
   "id": "11762a59",
   "metadata": {},
   "outputs": [
    {
     "name": "stderr",
     "output_type": "stream",
     "text": [
      "C:\\Users\\Nael\\anaconda3\\lib\\site-packages\\sklearn\\cluster\\_kmeans.py:1334: UserWarning: KMeans is known to have a memory leak on Windows with MKL, when there are less chunks than available threads. You can avoid it by setting the environment variable OMP_NUM_THREADS=3.\n",
      "  warnings.warn(\n"
     ]
    },
    {
     "data": {
      "text/html": [
       "<style>#sk-container-id-1 {color: black;background-color: white;}#sk-container-id-1 pre{padding: 0;}#sk-container-id-1 div.sk-toggleable {background-color: white;}#sk-container-id-1 label.sk-toggleable__label {cursor: pointer;display: block;width: 100%;margin-bottom: 0;padding: 0.3em;box-sizing: border-box;text-align: center;}#sk-container-id-1 label.sk-toggleable__label-arrow:before {content: \"▸\";float: left;margin-right: 0.25em;color: #696969;}#sk-container-id-1 label.sk-toggleable__label-arrow:hover:before {color: black;}#sk-container-id-1 div.sk-estimator:hover label.sk-toggleable__label-arrow:before {color: black;}#sk-container-id-1 div.sk-toggleable__content {max-height: 0;max-width: 0;overflow: hidden;text-align: left;background-color: #f0f8ff;}#sk-container-id-1 div.sk-toggleable__content pre {margin: 0.2em;color: black;border-radius: 0.25em;background-color: #f0f8ff;}#sk-container-id-1 input.sk-toggleable__control:checked~div.sk-toggleable__content {max-height: 200px;max-width: 100%;overflow: auto;}#sk-container-id-1 input.sk-toggleable__control:checked~label.sk-toggleable__label-arrow:before {content: \"▾\";}#sk-container-id-1 div.sk-estimator input.sk-toggleable__control:checked~label.sk-toggleable__label {background-color: #d4ebff;}#sk-container-id-1 div.sk-label input.sk-toggleable__control:checked~label.sk-toggleable__label {background-color: #d4ebff;}#sk-container-id-1 input.sk-hidden--visually {border: 0;clip: rect(1px 1px 1px 1px);clip: rect(1px, 1px, 1px, 1px);height: 1px;margin: -1px;overflow: hidden;padding: 0;position: absolute;width: 1px;}#sk-container-id-1 div.sk-estimator {font-family: monospace;background-color: #f0f8ff;border: 1px dotted black;border-radius: 0.25em;box-sizing: border-box;margin-bottom: 0.5em;}#sk-container-id-1 div.sk-estimator:hover {background-color: #d4ebff;}#sk-container-id-1 div.sk-parallel-item::after {content: \"\";width: 100%;border-bottom: 1px solid gray;flex-grow: 1;}#sk-container-id-1 div.sk-label:hover label.sk-toggleable__label {background-color: #d4ebff;}#sk-container-id-1 div.sk-serial::before {content: \"\";position: absolute;border-left: 1px solid gray;box-sizing: border-box;top: 0;bottom: 0;left: 50%;z-index: 0;}#sk-container-id-1 div.sk-serial {display: flex;flex-direction: column;align-items: center;background-color: white;padding-right: 0.2em;padding-left: 0.2em;position: relative;}#sk-container-id-1 div.sk-item {position: relative;z-index: 1;}#sk-container-id-1 div.sk-parallel {display: flex;align-items: stretch;justify-content: center;background-color: white;position: relative;}#sk-container-id-1 div.sk-item::before, #sk-container-id-1 div.sk-parallel-item::before {content: \"\";position: absolute;border-left: 1px solid gray;box-sizing: border-box;top: 0;bottom: 0;left: 50%;z-index: -1;}#sk-container-id-1 div.sk-parallel-item {display: flex;flex-direction: column;z-index: 1;position: relative;background-color: white;}#sk-container-id-1 div.sk-parallel-item:first-child::after {align-self: flex-end;width: 50%;}#sk-container-id-1 div.sk-parallel-item:last-child::after {align-self: flex-start;width: 50%;}#sk-container-id-1 div.sk-parallel-item:only-child::after {width: 0;}#sk-container-id-1 div.sk-dashed-wrapped {border: 1px dashed gray;margin: 0 0.4em 0.5em 0.4em;box-sizing: border-box;padding-bottom: 0.4em;background-color: white;}#sk-container-id-1 div.sk-label label {font-family: monospace;font-weight: bold;display: inline-block;line-height: 1.2em;}#sk-container-id-1 div.sk-label-container {text-align: center;}#sk-container-id-1 div.sk-container {/* jupyter's `normalize.less` sets `[hidden] { display: none; }` but bootstrap.min.css set `[hidden] { display: none !important; }` so we also need the `!important` here to be able to override the default hidden behavior on the sphinx rendered scikit-learn.org. See: https://github.com/scikit-learn/scikit-learn/issues/21755 */display: inline-block !important;position: relative;}#sk-container-id-1 div.sk-text-repr-fallback {display: none;}</style><div id=\"sk-container-id-1\" class=\"sk-top-container\"><div class=\"sk-text-repr-fallback\"><pre>KMeans(n_clusters=3)</pre><b>In a Jupyter environment, please rerun this cell to show the HTML representation or trust the notebook. <br />On GitHub, the HTML representation is unable to render, please try loading this page with nbviewer.org.</b></div><div class=\"sk-container\" hidden><div class=\"sk-item\"><div class=\"sk-estimator sk-toggleable\"><input class=\"sk-toggleable__control sk-hidden--visually\" id=\"sk-estimator-id-1\" type=\"checkbox\" checked><label for=\"sk-estimator-id-1\" class=\"sk-toggleable__label sk-toggleable__label-arrow\">KMeans</label><div class=\"sk-toggleable__content\"><pre>KMeans(n_clusters=3)</pre></div></div></div></div></div>"
      ],
      "text/plain": [
       "KMeans(n_clusters=3)"
      ]
     },
     "execution_count": 86,
     "metadata": {},
     "output_type": "execute_result"
    }
   ],
   "source": [
    "# K-Means with optimun K \n",
    "\n",
    "clustering = KMeans (n_clusters = opt)\n",
    "clustering.fit(x)"
   ]
  },
  {
   "cell_type": "code",
   "execution_count": 87,
   "id": "c47c6f0a",
   "metadata": {},
   "outputs": [
    {
     "name": "stderr",
     "output_type": "stream",
     "text": [
      "C:\\Users\\Nael\\AppData\\Local\\Temp/ipykernel_22708/2073212038.py:3: SettingWithCopyWarning: \n",
      "A value is trying to be set on a copy of a slice from a DataFrame.\n",
      "Try using .loc[row_indexer,col_indexer] = value instead\n",
      "\n",
      "See the caveats in the documentation: https://pandas.pydata.org/pandas-docs/stable/user_guide/indexing.html#returning-a-view-versus-a-copy\n",
      "  refugee_df['cluster'] = clustering.labels_\n"
     ]
    }
   ],
   "source": [
    "# assigning  each data point (row) to a cluster\n",
    "\n",
    "refugee_df['cluster'] = clustering.labels_\n"
   ]
  },
  {
   "cell_type": "markdown",
   "id": "f911c3fa",
   "metadata": {},
   "source": [
    "### Getting basic statisctic descriptive for the features in each cluster"
   ]
  },
  {
   "cell_type": "code",
   "execution_count": 88,
   "id": "75925ffd",
   "metadata": {},
   "outputs": [
    {
     "data": {
      "text/html": [
       "<div><div id=70098af7-47bf-4219-809a-cc0d437a239d style=\"display:none; background-color:#9D6CFF; color:white; width:200px; height:30px; padding-left:5px; border-radius:4px; flex-direction:row; justify-content:space-around; align-items:center;\" onmouseover=\"this.style.backgroundColor='#BA9BF8'\" onmouseout=\"this.style.backgroundColor='#9D6CFF'\" onclick=\"window.commands?.execute('create-mitosheet-from-dataframe-output');\">See Full Dataframe in Mito</div> <script> if (window.commands.hasCommand('create-mitosheet-from-dataframe-output')) document.getElementById('70098af7-47bf-4219-809a-cc0d437a239d').style.display = 'flex' </script> <table border=\"1\" class=\"dataframe\">\n",
       "  <thead>\n",
       "    <tr style=\"text-align: right;\">\n",
       "      <th></th>\n",
       "      <th>FCS</th>\n",
       "      <th>rcsi</th>\n",
       "      <th>age1</th>\n",
       "      <th>hh_size</th>\n",
       "      <th>cluster</th>\n",
       "    </tr>\n",
       "  </thead>\n",
       "  <tbody>\n",
       "    <tr>\n",
       "      <th>11</th>\n",
       "      <td>35.5</td>\n",
       "      <td>20</td>\n",
       "      <td>1</td>\n",
       "      <td>5</td>\n",
       "      <td>0</td>\n",
       "    </tr>\n",
       "    <tr>\n",
       "      <th>12</th>\n",
       "      <td>40.0</td>\n",
       "      <td>24</td>\n",
       "      <td>2</td>\n",
       "      <td>8</td>\n",
       "      <td>0</td>\n",
       "    </tr>\n",
       "    <tr>\n",
       "      <th>13</th>\n",
       "      <td>45.5</td>\n",
       "      <td>30</td>\n",
       "      <td>2</td>\n",
       "      <td>8</td>\n",
       "      <td>0</td>\n",
       "    </tr>\n",
       "    <tr>\n",
       "      <th>15</th>\n",
       "      <td>52.0</td>\n",
       "      <td>19</td>\n",
       "      <td>2</td>\n",
       "      <td>8</td>\n",
       "      <td>0</td>\n",
       "    </tr>\n",
       "    <tr>\n",
       "      <th>16</th>\n",
       "      <td>44.5</td>\n",
       "      <td>19</td>\n",
       "      <td>2</td>\n",
       "      <td>5</td>\n",
       "      <td>0</td>\n",
       "    </tr>\n",
       "  </tbody>\n",
       "</table></div>"
      ],
      "text/plain": [
       "     FCS  rcsi  age1  hh_size  cluster\n",
       "11  35.5    20     1        5        0\n",
       "12  40.0    24     2        8        0\n",
       "13  45.5    30     2        8        0\n",
       "15  52.0    19     2        8        0\n",
       "16  44.5    19     2        5        0"
      ]
     },
     "execution_count": 88,
     "metadata": {},
     "output_type": "execute_result"
    }
   ],
   "source": [
    "refugee_df1 = refugee_df[['FCS','rcsi','age1','hh_size','cluster']]\n",
    "refugee_df1.head()"
   ]
  },
  {
   "cell_type": "code",
   "execution_count": 89,
   "id": "040c52bb",
   "metadata": {},
   "outputs": [
    {
     "data": {
      "text/html": [
       "<div><div id=7c1e918f-4193-4418-86b0-ac08e2539e4b style=\"display:none; background-color:#9D6CFF; color:white; width:200px; height:30px; padding-left:5px; border-radius:4px; flex-direction:row; justify-content:space-around; align-items:center;\" onmouseover=\"this.style.backgroundColor='#BA9BF8'\" onmouseout=\"this.style.backgroundColor='#9D6CFF'\" onclick=\"window.commands?.execute('create-mitosheet-from-dataframe-output');\">See Full Dataframe in Mito</div> <script> if (window.commands.hasCommand('create-mitosheet-from-dataframe-output')) document.getElementById('7c1e918f-4193-4418-86b0-ac08e2539e4b').style.display = 'flex' </script> <table border=\"1\" class=\"dataframe\">\n",
       "  <thead>\n",
       "    <tr style=\"text-align: right;\">\n",
       "      <th></th>\n",
       "      <th>FCS</th>\n",
       "      <th>rcsi</th>\n",
       "      <th>age1</th>\n",
       "      <th>hh_size</th>\n",
       "    </tr>\n",
       "    <tr>\n",
       "      <th>cluster</th>\n",
       "      <th></th>\n",
       "      <th></th>\n",
       "      <th></th>\n",
       "      <th></th>\n",
       "    </tr>\n",
       "  </thead>\n",
       "  <tbody>\n",
       "    <tr>\n",
       "      <th>0</th>\n",
       "      <td>40.732558</td>\n",
       "      <td>26.945736</td>\n",
       "      <td>2.100775</td>\n",
       "      <td>6.666667</td>\n",
       "    </tr>\n",
       "    <tr>\n",
       "      <th>1</th>\n",
       "      <td>27.011321</td>\n",
       "      <td>8.449057</td>\n",
       "      <td>2.162264</td>\n",
       "      <td>5.969811</td>\n",
       "    </tr>\n",
       "    <tr>\n",
       "      <th>2</th>\n",
       "      <td>59.877551</td>\n",
       "      <td>7.666667</td>\n",
       "      <td>2.238095</td>\n",
       "      <td>6.027211</td>\n",
       "    </tr>\n",
       "  </tbody>\n",
       "</table></div>"
      ],
      "text/plain": [
       "               FCS       rcsi      age1   hh_size\n",
       "cluster                                          \n",
       "0        40.732558  26.945736  2.100775  6.666667\n",
       "1        27.011321   8.449057  2.162264  5.969811\n",
       "2        59.877551   7.666667  2.238095  6.027211"
      ]
     },
     "execution_count": 89,
     "metadata": {},
     "output_type": "execute_result"
    }
   ],
   "source": [
    "#  getting means value of each feature and for each cluster\n",
    "refugee_df1.groupby('cluster').mean()"
   ]
  },
  {
   "cell_type": "code",
   "execution_count": 90,
   "id": "21eb6e46",
   "metadata": {},
   "outputs": [
    {
     "data": {
      "text/html": [
       "<div><div id=81a93d19-182c-4d5a-bfd8-533585031563 style=\"display:none; background-color:#9D6CFF; color:white; width:200px; height:30px; padding-left:5px; border-radius:4px; flex-direction:row; justify-content:space-around; align-items:center;\" onmouseover=\"this.style.backgroundColor='#BA9BF8'\" onmouseout=\"this.style.backgroundColor='#9D6CFF'\" onclick=\"window.commands?.execute('create-mitosheet-from-dataframe-output');\">See Full Dataframe in Mito</div> <script> if (window.commands.hasCommand('create-mitosheet-from-dataframe-output')) document.getElementById('81a93d19-182c-4d5a-bfd8-533585031563').style.display = 'flex' </script> <table border=\"1\" class=\"dataframe\">\n",
       "  <thead>\n",
       "    <tr style=\"text-align: right;\">\n",
       "      <th></th>\n",
       "      <th>FCS</th>\n",
       "      <th>rcsi</th>\n",
       "      <th>age1</th>\n",
       "      <th>hh_size</th>\n",
       "    </tr>\n",
       "    <tr>\n",
       "      <th>cluster</th>\n",
       "      <th></th>\n",
       "      <th></th>\n",
       "      <th></th>\n",
       "      <th></th>\n",
       "    </tr>\n",
       "  </thead>\n",
       "  <tbody>\n",
       "    <tr>\n",
       "      <th>0</th>\n",
       "      <td>64.5</td>\n",
       "      <td>56</td>\n",
       "      <td>4</td>\n",
       "      <td>38</td>\n",
       "    </tr>\n",
       "    <tr>\n",
       "      <th>1</th>\n",
       "      <td>43.0</td>\n",
       "      <td>23</td>\n",
       "      <td>4</td>\n",
       "      <td>32</td>\n",
       "    </tr>\n",
       "    <tr>\n",
       "      <th>2</th>\n",
       "      <td>96.0</td>\n",
       "      <td>26</td>\n",
       "      <td>4</td>\n",
       "      <td>40</td>\n",
       "    </tr>\n",
       "  </tbody>\n",
       "</table></div>"
      ],
      "text/plain": [
       "          FCS  rcsi  age1  hh_size\n",
       "cluster                           \n",
       "0        64.5    56     4       38\n",
       "1        43.0    23     4       32\n",
       "2        96.0    26     4       40"
      ]
     },
     "execution_count": 90,
     "metadata": {},
     "output_type": "execute_result"
    }
   ],
   "source": [
    "#  getting maximum value of each feature and  for each cluster\n",
    "refugee_df1.groupby('cluster').max()"
   ]
  },
  {
   "cell_type": "code",
   "execution_count": 91,
   "id": "b011200f",
   "metadata": {},
   "outputs": [
    {
     "data": {
      "text/html": [
       "<div><div id=ae2eea0d-9be9-49a5-b62c-5deb3592a6b2 style=\"display:none; background-color:#9D6CFF; color:white; width:200px; height:30px; padding-left:5px; border-radius:4px; flex-direction:row; justify-content:space-around; align-items:center;\" onmouseover=\"this.style.backgroundColor='#BA9BF8'\" onmouseout=\"this.style.backgroundColor='#9D6CFF'\" onclick=\"window.commands?.execute('create-mitosheet-from-dataframe-output');\">See Full Dataframe in Mito</div> <script> if (window.commands.hasCommand('create-mitosheet-from-dataframe-output')) document.getElementById('ae2eea0d-9be9-49a5-b62c-5deb3592a6b2').style.display = 'flex' </script> <table border=\"1\" class=\"dataframe\">\n",
       "  <thead>\n",
       "    <tr style=\"text-align: right;\">\n",
       "      <th></th>\n",
       "      <th>FCS</th>\n",
       "      <th>rcsi</th>\n",
       "      <th>age1</th>\n",
       "      <th>hh_size</th>\n",
       "    </tr>\n",
       "    <tr>\n",
       "      <th>cluster</th>\n",
       "      <th></th>\n",
       "      <th></th>\n",
       "      <th></th>\n",
       "      <th></th>\n",
       "    </tr>\n",
       "  </thead>\n",
       "  <tbody>\n",
       "    <tr>\n",
       "      <th>0</th>\n",
       "      <td>11.0</td>\n",
       "      <td>16</td>\n",
       "      <td>1</td>\n",
       "      <td>1</td>\n",
       "    </tr>\n",
       "    <tr>\n",
       "      <th>1</th>\n",
       "      <td>0.0</td>\n",
       "      <td>0</td>\n",
       "      <td>1</td>\n",
       "      <td>0</td>\n",
       "    </tr>\n",
       "    <tr>\n",
       "      <th>2</th>\n",
       "      <td>44.0</td>\n",
       "      <td>0</td>\n",
       "      <td>1</td>\n",
       "      <td>0</td>\n",
       "    </tr>\n",
       "  </tbody>\n",
       "</table></div>"
      ],
      "text/plain": [
       "          FCS  rcsi  age1  hh_size\n",
       "cluster                           \n",
       "0        11.0    16     1        1\n",
       "1         0.0     0     1        0\n",
       "2        44.0     0     1        0"
      ]
     },
     "execution_count": 91,
     "metadata": {},
     "output_type": "execute_result"
    }
   ],
   "source": [
    "#  getting minimum value of each feature and for each cluster\n",
    "refugee_df1.groupby('cluster').min()"
   ]
  },
  {
   "cell_type": "code",
   "execution_count": null,
   "id": "e21dc1fc",
   "metadata": {},
   "outputs": [],
   "source": []
  },
  {
   "cell_type": "code",
   "execution_count": 92,
   "id": "2398aec5",
   "metadata": {},
   "outputs": [
    {
     "data": {
      "text/plain": [
       "array([[40.73255814, 26.94573643],\n",
       "       [27.01132075,  8.4490566 ],\n",
       "       [59.87755102,  7.66666667]])"
      ]
     },
     "execution_count": 92,
     "metadata": {},
     "output_type": "execute_result"
    }
   ],
   "source": [
    "# getting the coordinate of centroids\n",
    "c = clustering.cluster_centers_\n",
    "# Reverse the normalization process to obtain the original cluster centers\n",
    "c1 = scaler.inverse_transform(c)\n",
    "c1"
   ]
  },
  {
   "cell_type": "code",
   "execution_count": 93,
   "id": "4b8e2709",
   "metadata": {},
   "outputs": [],
   "source": [
    "# Accessing each centroid coordinate value for later use them for visualization \n"
   ]
  },
  {
   "cell_type": "code",
   "execution_count": 94,
   "id": "3a556ccb",
   "metadata": {},
   "outputs": [],
   "source": [
    "cx1 = c1[0,1]\n",
    "cy1 = c1[0,0]\n",
    "cx2 = c1[1,1]\n",
    "cy2 = c1[1,0]\n",
    "cz1 = c1[2,1]\n",
    "cz2 = c1[2,0]"
   ]
  },
  {
   "cell_type": "markdown",
   "id": "4ca107d9",
   "metadata": {},
   "source": [
    "### Vizualizing the scatterplots and the clusters (only for selection of two features)"
   ]
  },
  {
   "cell_type": "code",
   "execution_count": 95,
   "id": "b95afd07",
   "metadata": {},
   "outputs": [
    {
     "data": {
      "image/png": "[encoded data removed]",
      "text/plain": [
       "<Figure size 1080x360 with 2 Axes>"
      ]
     },
     "metadata": {},
     "output_type": "display_data"
    }
   ],
   "source": [
    "fig, axes = plt.subplots(nrows=1, ncols=2, figsize=(15,5))\n",
    "sns.scatterplot(ax=axes[0], data=refugee_df1, x='rcsi', y='FCS',color = 'black').set_title('Scaterplot without clustering')\n",
    "\n",
    "custom_palette = {0: \"blue\", 1: \"red\", 2:\"green\"}\n",
    "sns.scatterplot(ax=axes[1], data=refugee_df1, x='rcsi', y='FCS',hue='cluster',palette=custom_palette).set_title(\" Scatterplot with lusters\")\n",
    "\n",
    "# Display the plothow\n",
    "plt.show()"
   ]
  },
  {
   "cell_type": "code",
   "execution_count": null,
   "id": "2ffbe41b",
   "metadata": {},
   "outputs": [],
   "source": []
  }
 ],
 "metadata": {
  "kernelspec": {
   "display_name": "Python 3 (ipykernel)",
   "language": "python",
   "name": "python3"
  },
  "language_info": {
   "codemirror_mode": {
    "name": "ipython",
    "version": 3
   },
   "file_extension": ".py",
   "mimetype": "text/x-python",
   "name": "python",
   "nbconvert_exporter": "python",
   "pygments_lexer": "ipython3",
   "version": "3.8.5"
  }
 },
 "nbformat": 4,
 "nbformat_minor": 5
}
